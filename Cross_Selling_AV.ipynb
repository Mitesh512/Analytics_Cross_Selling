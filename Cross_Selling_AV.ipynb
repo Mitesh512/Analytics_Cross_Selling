{
 "cells": [
  {
   "cell_type": "markdown",
   "metadata": {},
   "source": [
    "## Problem Summary and Data Info:\n",
    "\n",
    "client is an Insurance company that has provided Health Insurance to its customers now they need your help in building a model to predict whether the policyholders (customers) from past year will also be interested in Vehicle Insurance provided by the company.\n",
    "\n",
    "An insurance policy is an arrangement by which a company undertakes to provide a guarantee of compensation for specified loss, damage, illness, or death in return for the payment of a specified premium. A premium is a sum of money that the customer needs to pay regularly to an insurance company for this guarantee.\n",
    "\n",
    "For example, you may pay a premium of Rs. 5000 each year for a health insurance cover of Rs. 200,000/- so that if, God forbid, you fall ill and need to be hospitalised in that year, the insurance provider company will bear the cost of hospitalisation etc. for upto Rs. 200,000. Now if you are wondering how can company bear such high hospitalisation cost when it charges a premium of only Rs. 5000/-, that is where the concept of probabilities comes in picture. For example, like you, there may be 100 customers who would be paying a premium of Rs. 5000 every year, but only a few of them (say 2-3) would get hospitalised that year and not everyone. This way everyone shares the risk of everyone else.\n",
    "\n",
    "Just like medical insurance, there is vehicle insurance where every year customer needs to pay a premium of certain amount to insurance provider company so that in case of unfortunate accident by the vehicle, the insurance provider company will provide a compensation (called ‘sum assured’) to the customer.\n",
    "\n",
    "Building a model to predict whether a customer would be interested in Vehicle Insurance is extremely helpful for the company because it can then accordingly plan its communication strategy to reach out to those customers and optimise its business model and revenue. \n",
    "\n",
    "Now, in order to predict, whether the customer would be interested in Vehicle insurance, you have information about demographics (gender, age, region code type), Vehicles (Vehicle Age, Damage), Policy (Premium, sourcing channel) etc.\n",
    "\n",
    "Variable\tDefinition\n",
    "id\tUnique ID for the customer\n",
    "Gender\tGender of the customer\n",
    "Age\n",
    "Age of the customer\n",
    "Driving_License\t0 : Customer does not have DL, 1 : Customer already has DL\n",
    "Region_Code\tUnique code for the region of the customer\n",
    "Previously_Insured\t1 : Customer already has Vehicle Insurance, 0 : Customer doesn't have Vehicle Insurance\n",
    "Vehicle_Age\tAge of the Vehicle \n",
    "Vehicle_Damage\n",
    "1 : Customer got his/her vehicle damaged in the past.\n",
    "0 : Customer didn't get his/her vehicle damaged in the past.\n",
    "Annual_Premium\tThe amount customer needs to pay as premium in the year\n",
    "Policy_Sales_Channel\tAnonymised Code for the channel of outreaching to the customer ie. Different Agents, Over Mail, Over Phone, In Person, etc.\n",
    "Vintage\tNumber of Days, Customer has been associated with the company\n",
    "Response\t1 :  Customer is interested, 0 : Customer is not interested"
   ]
  },
  {
   "cell_type": "markdown",
   "metadata": {},
   "source": [
    "# Import important libraries:"
   ]
  },
  {
   "cell_type": "code",
   "execution_count": 1,
   "metadata": {},
   "outputs": [],
   "source": [
    "#####---------------- Importing important Linraries:\n",
    "\n",
    "import pandas as pd\n",
    "import numpy as np\n",
    "import matplotlib.pyplot as plt\n",
    "%matplotlib inline\n",
    "import seaborn as sns\n",
    "from datetime import datetime, date\n",
    "\n",
    "from zipfile import ZipFile\n",
    "\n",
    "########=------------- Preprocessing Libraries\n",
    "from sklearn.preprocessing import StandardScaler, LabelEncoder\n",
    "from sklearn.model_selection import train_test_split, cross_val_score, GridSearchCV\n",
    "\n",
    "\n",
    "#######-----------Classificatoin----Modeling-----\n",
    "from sklearn.linear_model import LogisticRegression\n",
    "from sklearn.tree import DecisionTreeClassifier\n",
    "from sklearn.ensemble import RandomForestClassifier\n",
    "from sklearn.naive_bayes import GaussianNB\n",
    "from sklearn.svm import SVC\n",
    "import xgboost as xgb\n",
    "from xgboost import XGBClassifier\n",
    "import lightgbm as lgb\n",
    "from lightgbm import LGBMClassifier\n",
    "#from catboost import CatBoostClassifier\n",
    "\n",
    "from sklearn.ensemble import VotingClassifier\n",
    "\n",
    "#######-----------------Evaluation-----------------\n",
    "from sklearn.metrics import roc_auc_score, classification_report, confusion_matrix\n"
   ]
  },
  {
   "cell_type": "code",
   "execution_count": 2,
   "metadata": {},
   "outputs": [],
   "source": [
    "pd.set_option('display.max_columns', 150)\n",
    "pd.set_option('display.max_rows' , 150)"
   ]
  },
  {
   "cell_type": "code",
   "execution_count": 3,
   "metadata": {},
   "outputs": [],
   "source": [
    "train = pd.read_csv('train.csv')\n",
    "test = pd.read_csv('test.csv')"
   ]
  },
  {
   "cell_type": "code",
   "execution_count": 4,
   "metadata": {},
   "outputs": [
    {
     "data": {
      "text/html": [
       "<div>\n",
       "<style scoped>\n",
       "    .dataframe tbody tr th:only-of-type {\n",
       "        vertical-align: middle;\n",
       "    }\n",
       "\n",
       "    .dataframe tbody tr th {\n",
       "        vertical-align: top;\n",
       "    }\n",
       "\n",
       "    .dataframe thead th {\n",
       "        text-align: right;\n",
       "    }\n",
       "</style>\n",
       "<table border=\"1\" class=\"dataframe\">\n",
       "  <thead>\n",
       "    <tr style=\"text-align: right;\">\n",
       "      <th></th>\n",
       "      <th>id</th>\n",
       "      <th>Response</th>\n",
       "    </tr>\n",
       "  </thead>\n",
       "  <tbody>\n",
       "    <tr>\n",
       "      <th>0</th>\n",
       "      <td>381110</td>\n",
       "      <td>0</td>\n",
       "    </tr>\n",
       "    <tr>\n",
       "      <th>1</th>\n",
       "      <td>381111</td>\n",
       "      <td>0</td>\n",
       "    </tr>\n",
       "    <tr>\n",
       "      <th>2</th>\n",
       "      <td>381112</td>\n",
       "      <td>0</td>\n",
       "    </tr>\n",
       "    <tr>\n",
       "      <th>3</th>\n",
       "      <td>381113</td>\n",
       "      <td>0</td>\n",
       "    </tr>\n",
       "    <tr>\n",
       "      <th>4</th>\n",
       "      <td>381114</td>\n",
       "      <td>0</td>\n",
       "    </tr>\n",
       "  </tbody>\n",
       "</table>\n",
       "</div>"
      ],
      "text/plain": [
       "       id  Response\n",
       "0  381110         0\n",
       "1  381111         0\n",
       "2  381112         0\n",
       "3  381113         0\n",
       "4  381114         0"
      ]
     },
     "execution_count": 4,
     "metadata": {},
     "output_type": "execute_result"
    }
   ],
   "source": [
    "sub = pd.read_csv('sample_submission_iA3afxn.csv')\n",
    "sub.head()"
   ]
  },
  {
   "cell_type": "code",
   "execution_count": 5,
   "metadata": {},
   "outputs": [
    {
     "data": {
      "text/html": [
       "<div>\n",
       "<style scoped>\n",
       "    .dataframe tbody tr th:only-of-type {\n",
       "        vertical-align: middle;\n",
       "    }\n",
       "\n",
       "    .dataframe tbody tr th {\n",
       "        vertical-align: top;\n",
       "    }\n",
       "\n",
       "    .dataframe thead th {\n",
       "        text-align: right;\n",
       "    }\n",
       "</style>\n",
       "<table border=\"1\" class=\"dataframe\">\n",
       "  <thead>\n",
       "    <tr style=\"text-align: right;\">\n",
       "      <th></th>\n",
       "      <th>id</th>\n",
       "      <th>Gender</th>\n",
       "      <th>Age</th>\n",
       "      <th>Driving_License</th>\n",
       "      <th>Region_Code</th>\n",
       "      <th>Previously_Insured</th>\n",
       "      <th>Vehicle_Age</th>\n",
       "      <th>Vehicle_Damage</th>\n",
       "      <th>Annual_Premium</th>\n",
       "      <th>Policy_Sales_Channel</th>\n",
       "      <th>Vintage</th>\n",
       "      <th>Response</th>\n",
       "    </tr>\n",
       "  </thead>\n",
       "  <tbody>\n",
       "    <tr>\n",
       "      <th>0</th>\n",
       "      <td>1</td>\n",
       "      <td>Male</td>\n",
       "      <td>44</td>\n",
       "      <td>1</td>\n",
       "      <td>28.0</td>\n",
       "      <td>0</td>\n",
       "      <td>&gt; 2 Years</td>\n",
       "      <td>Yes</td>\n",
       "      <td>40454.0</td>\n",
       "      <td>26.0</td>\n",
       "      <td>217</td>\n",
       "      <td>1</td>\n",
       "    </tr>\n",
       "    <tr>\n",
       "      <th>1</th>\n",
       "      <td>2</td>\n",
       "      <td>Male</td>\n",
       "      <td>76</td>\n",
       "      <td>1</td>\n",
       "      <td>3.0</td>\n",
       "      <td>0</td>\n",
       "      <td>1-2 Year</td>\n",
       "      <td>No</td>\n",
       "      <td>33536.0</td>\n",
       "      <td>26.0</td>\n",
       "      <td>183</td>\n",
       "      <td>0</td>\n",
       "    </tr>\n",
       "    <tr>\n",
       "      <th>2</th>\n",
       "      <td>3</td>\n",
       "      <td>Male</td>\n",
       "      <td>47</td>\n",
       "      <td>1</td>\n",
       "      <td>28.0</td>\n",
       "      <td>0</td>\n",
       "      <td>&gt; 2 Years</td>\n",
       "      <td>Yes</td>\n",
       "      <td>38294.0</td>\n",
       "      <td>26.0</td>\n",
       "      <td>27</td>\n",
       "      <td>1</td>\n",
       "    </tr>\n",
       "    <tr>\n",
       "      <th>3</th>\n",
       "      <td>4</td>\n",
       "      <td>Male</td>\n",
       "      <td>21</td>\n",
       "      <td>1</td>\n",
       "      <td>11.0</td>\n",
       "      <td>1</td>\n",
       "      <td>&lt; 1 Year</td>\n",
       "      <td>No</td>\n",
       "      <td>28619.0</td>\n",
       "      <td>152.0</td>\n",
       "      <td>203</td>\n",
       "      <td>0</td>\n",
       "    </tr>\n",
       "    <tr>\n",
       "      <th>4</th>\n",
       "      <td>5</td>\n",
       "      <td>Female</td>\n",
       "      <td>29</td>\n",
       "      <td>1</td>\n",
       "      <td>41.0</td>\n",
       "      <td>1</td>\n",
       "      <td>&lt; 1 Year</td>\n",
       "      <td>No</td>\n",
       "      <td>27496.0</td>\n",
       "      <td>152.0</td>\n",
       "      <td>39</td>\n",
       "      <td>0</td>\n",
       "    </tr>\n",
       "  </tbody>\n",
       "</table>\n",
       "</div>"
      ],
      "text/plain": [
       "   id  Gender  Age  Driving_License  Region_Code  Previously_Insured  \\\n",
       "0   1    Male   44                1         28.0                   0   \n",
       "1   2    Male   76                1          3.0                   0   \n",
       "2   3    Male   47                1         28.0                   0   \n",
       "3   4    Male   21                1         11.0                   1   \n",
       "4   5  Female   29                1         41.0                   1   \n",
       "\n",
       "  Vehicle_Age Vehicle_Damage  Annual_Premium  Policy_Sales_Channel  Vintage  \\\n",
       "0   > 2 Years            Yes         40454.0                  26.0      217   \n",
       "1    1-2 Year             No         33536.0                  26.0      183   \n",
       "2   > 2 Years            Yes         38294.0                  26.0       27   \n",
       "3    < 1 Year             No         28619.0                 152.0      203   \n",
       "4    < 1 Year             No         27496.0                 152.0       39   \n",
       "\n",
       "   Response  \n",
       "0         1  \n",
       "1         0  \n",
       "2         1  \n",
       "3         0  \n",
       "4         0  "
      ]
     },
     "execution_count": 5,
     "metadata": {},
     "output_type": "execute_result"
    }
   ],
   "source": [
    "train.head()"
   ]
  },
  {
   "cell_type": "code",
   "execution_count": 6,
   "metadata": {},
   "outputs": [
    {
     "name": "stdout",
     "output_type": "stream",
     "text": [
      "<class 'pandas.core.frame.DataFrame'>\n",
      "RangeIndex: 381109 entries, 0 to 381108\n",
      "Data columns (total 12 columns):\n",
      " #   Column                Non-Null Count   Dtype  \n",
      "---  ------                --------------   -----  \n",
      " 0   id                    381109 non-null  int64  \n",
      " 1   Gender                381109 non-null  object \n",
      " 2   Age                   381109 non-null  int64  \n",
      " 3   Driving_License       381109 non-null  int64  \n",
      " 4   Region_Code           381109 non-null  float64\n",
      " 5   Previously_Insured    381109 non-null  int64  \n",
      " 6   Vehicle_Age           381109 non-null  object \n",
      " 7   Vehicle_Damage        381109 non-null  object \n",
      " 8   Annual_Premium        381109 non-null  float64\n",
      " 9   Policy_Sales_Channel  381109 non-null  float64\n",
      " 10  Vintage               381109 non-null  int64  \n",
      " 11  Response              381109 non-null  int64  \n",
      "dtypes: float64(3), int64(6), object(3)\n",
      "memory usage: 34.9+ MB\n"
     ]
    }
   ],
   "source": [
    "train.info()"
   ]
  },
  {
   "cell_type": "code",
   "execution_count": 7,
   "metadata": {},
   "outputs": [
    {
     "data": {
      "text/html": [
       "<div>\n",
       "<style scoped>\n",
       "    .dataframe tbody tr th:only-of-type {\n",
       "        vertical-align: middle;\n",
       "    }\n",
       "\n",
       "    .dataframe tbody tr th {\n",
       "        vertical-align: top;\n",
       "    }\n",
       "\n",
       "    .dataframe thead th {\n",
       "        text-align: right;\n",
       "    }\n",
       "</style>\n",
       "<table border=\"1\" class=\"dataframe\">\n",
       "  <thead>\n",
       "    <tr style=\"text-align: right;\">\n",
       "      <th></th>\n",
       "      <th>id</th>\n",
       "      <th>Gender</th>\n",
       "      <th>Age</th>\n",
       "      <th>Driving_License</th>\n",
       "      <th>Region_Code</th>\n",
       "      <th>Previously_Insured</th>\n",
       "      <th>Vehicle_Age</th>\n",
       "      <th>Vehicle_Damage</th>\n",
       "      <th>Annual_Premium</th>\n",
       "      <th>Policy_Sales_Channel</th>\n",
       "      <th>Vintage</th>\n",
       "      <th>Response</th>\n",
       "    </tr>\n",
       "  </thead>\n",
       "  <tbody>\n",
       "    <tr>\n",
       "      <th>count</th>\n",
       "      <td>381109.000000</td>\n",
       "      <td>381109</td>\n",
       "      <td>381109.000000</td>\n",
       "      <td>381109.000000</td>\n",
       "      <td>381109.000000</td>\n",
       "      <td>381109.000000</td>\n",
       "      <td>381109</td>\n",
       "      <td>381109</td>\n",
       "      <td>381109.000000</td>\n",
       "      <td>381109.000000</td>\n",
       "      <td>381109.000000</td>\n",
       "      <td>381109.000000</td>\n",
       "    </tr>\n",
       "    <tr>\n",
       "      <th>unique</th>\n",
       "      <td>NaN</td>\n",
       "      <td>2</td>\n",
       "      <td>NaN</td>\n",
       "      <td>NaN</td>\n",
       "      <td>NaN</td>\n",
       "      <td>NaN</td>\n",
       "      <td>3</td>\n",
       "      <td>2</td>\n",
       "      <td>NaN</td>\n",
       "      <td>NaN</td>\n",
       "      <td>NaN</td>\n",
       "      <td>NaN</td>\n",
       "    </tr>\n",
       "    <tr>\n",
       "      <th>top</th>\n",
       "      <td>NaN</td>\n",
       "      <td>Male</td>\n",
       "      <td>NaN</td>\n",
       "      <td>NaN</td>\n",
       "      <td>NaN</td>\n",
       "      <td>NaN</td>\n",
       "      <td>1-2 Year</td>\n",
       "      <td>Yes</td>\n",
       "      <td>NaN</td>\n",
       "      <td>NaN</td>\n",
       "      <td>NaN</td>\n",
       "      <td>NaN</td>\n",
       "    </tr>\n",
       "    <tr>\n",
       "      <th>freq</th>\n",
       "      <td>NaN</td>\n",
       "      <td>206089</td>\n",
       "      <td>NaN</td>\n",
       "      <td>NaN</td>\n",
       "      <td>NaN</td>\n",
       "      <td>NaN</td>\n",
       "      <td>200316</td>\n",
       "      <td>192413</td>\n",
       "      <td>NaN</td>\n",
       "      <td>NaN</td>\n",
       "      <td>NaN</td>\n",
       "      <td>NaN</td>\n",
       "    </tr>\n",
       "    <tr>\n",
       "      <th>mean</th>\n",
       "      <td>190555.000000</td>\n",
       "      <td>NaN</td>\n",
       "      <td>38.822584</td>\n",
       "      <td>0.997869</td>\n",
       "      <td>26.388807</td>\n",
       "      <td>0.458210</td>\n",
       "      <td>NaN</td>\n",
       "      <td>NaN</td>\n",
       "      <td>30564.389581</td>\n",
       "      <td>112.034295</td>\n",
       "      <td>154.347397</td>\n",
       "      <td>0.122563</td>\n",
       "    </tr>\n",
       "    <tr>\n",
       "      <th>std</th>\n",
       "      <td>110016.836208</td>\n",
       "      <td>NaN</td>\n",
       "      <td>15.511611</td>\n",
       "      <td>0.046110</td>\n",
       "      <td>13.229888</td>\n",
       "      <td>0.498251</td>\n",
       "      <td>NaN</td>\n",
       "      <td>NaN</td>\n",
       "      <td>17213.155057</td>\n",
       "      <td>54.203995</td>\n",
       "      <td>83.671304</td>\n",
       "      <td>0.327936</td>\n",
       "    </tr>\n",
       "    <tr>\n",
       "      <th>min</th>\n",
       "      <td>1.000000</td>\n",
       "      <td>NaN</td>\n",
       "      <td>20.000000</td>\n",
       "      <td>0.000000</td>\n",
       "      <td>0.000000</td>\n",
       "      <td>0.000000</td>\n",
       "      <td>NaN</td>\n",
       "      <td>NaN</td>\n",
       "      <td>2630.000000</td>\n",
       "      <td>1.000000</td>\n",
       "      <td>10.000000</td>\n",
       "      <td>0.000000</td>\n",
       "    </tr>\n",
       "    <tr>\n",
       "      <th>25%</th>\n",
       "      <td>95278.000000</td>\n",
       "      <td>NaN</td>\n",
       "      <td>25.000000</td>\n",
       "      <td>1.000000</td>\n",
       "      <td>15.000000</td>\n",
       "      <td>0.000000</td>\n",
       "      <td>NaN</td>\n",
       "      <td>NaN</td>\n",
       "      <td>24405.000000</td>\n",
       "      <td>29.000000</td>\n",
       "      <td>82.000000</td>\n",
       "      <td>0.000000</td>\n",
       "    </tr>\n",
       "    <tr>\n",
       "      <th>50%</th>\n",
       "      <td>190555.000000</td>\n",
       "      <td>NaN</td>\n",
       "      <td>36.000000</td>\n",
       "      <td>1.000000</td>\n",
       "      <td>28.000000</td>\n",
       "      <td>0.000000</td>\n",
       "      <td>NaN</td>\n",
       "      <td>NaN</td>\n",
       "      <td>31669.000000</td>\n",
       "      <td>133.000000</td>\n",
       "      <td>154.000000</td>\n",
       "      <td>0.000000</td>\n",
       "    </tr>\n",
       "    <tr>\n",
       "      <th>75%</th>\n",
       "      <td>285832.000000</td>\n",
       "      <td>NaN</td>\n",
       "      <td>49.000000</td>\n",
       "      <td>1.000000</td>\n",
       "      <td>35.000000</td>\n",
       "      <td>1.000000</td>\n",
       "      <td>NaN</td>\n",
       "      <td>NaN</td>\n",
       "      <td>39400.000000</td>\n",
       "      <td>152.000000</td>\n",
       "      <td>227.000000</td>\n",
       "      <td>0.000000</td>\n",
       "    </tr>\n",
       "    <tr>\n",
       "      <th>max</th>\n",
       "      <td>381109.000000</td>\n",
       "      <td>NaN</td>\n",
       "      <td>85.000000</td>\n",
       "      <td>1.000000</td>\n",
       "      <td>52.000000</td>\n",
       "      <td>1.000000</td>\n",
       "      <td>NaN</td>\n",
       "      <td>NaN</td>\n",
       "      <td>540165.000000</td>\n",
       "      <td>163.000000</td>\n",
       "      <td>299.000000</td>\n",
       "      <td>1.000000</td>\n",
       "    </tr>\n",
       "  </tbody>\n",
       "</table>\n",
       "</div>"
      ],
      "text/plain": [
       "                   id  Gender            Age  Driving_License    Region_Code  \\\n",
       "count   381109.000000  381109  381109.000000    381109.000000  381109.000000   \n",
       "unique            NaN       2            NaN              NaN            NaN   \n",
       "top               NaN    Male            NaN              NaN            NaN   \n",
       "freq              NaN  206089            NaN              NaN            NaN   \n",
       "mean    190555.000000     NaN      38.822584         0.997869      26.388807   \n",
       "std     110016.836208     NaN      15.511611         0.046110      13.229888   \n",
       "min          1.000000     NaN      20.000000         0.000000       0.000000   \n",
       "25%      95278.000000     NaN      25.000000         1.000000      15.000000   \n",
       "50%     190555.000000     NaN      36.000000         1.000000      28.000000   \n",
       "75%     285832.000000     NaN      49.000000         1.000000      35.000000   \n",
       "max     381109.000000     NaN      85.000000         1.000000      52.000000   \n",
       "\n",
       "        Previously_Insured Vehicle_Age Vehicle_Damage  Annual_Premium  \\\n",
       "count        381109.000000      381109         381109   381109.000000   \n",
       "unique                 NaN           3              2             NaN   \n",
       "top                    NaN    1-2 Year            Yes             NaN   \n",
       "freq                   NaN      200316         192413             NaN   \n",
       "mean              0.458210         NaN            NaN    30564.389581   \n",
       "std               0.498251         NaN            NaN    17213.155057   \n",
       "min               0.000000         NaN            NaN     2630.000000   \n",
       "25%               0.000000         NaN            NaN    24405.000000   \n",
       "50%               0.000000         NaN            NaN    31669.000000   \n",
       "75%               1.000000         NaN            NaN    39400.000000   \n",
       "max               1.000000         NaN            NaN   540165.000000   \n",
       "\n",
       "        Policy_Sales_Channel        Vintage       Response  \n",
       "count          381109.000000  381109.000000  381109.000000  \n",
       "unique                   NaN            NaN            NaN  \n",
       "top                      NaN            NaN            NaN  \n",
       "freq                     NaN            NaN            NaN  \n",
       "mean              112.034295     154.347397       0.122563  \n",
       "std                54.203995      83.671304       0.327936  \n",
       "min                 1.000000      10.000000       0.000000  \n",
       "25%                29.000000      82.000000       0.000000  \n",
       "50%               133.000000     154.000000       0.000000  \n",
       "75%               152.000000     227.000000       0.000000  \n",
       "max               163.000000     299.000000       1.000000  "
      ]
     },
     "execution_count": 7,
     "metadata": {},
     "output_type": "execute_result"
    }
   ],
   "source": [
    "train.describe(include = 'all')"
   ]
  },
  {
   "cell_type": "code",
   "execution_count": 8,
   "metadata": {},
   "outputs": [
    {
     "name": "stdout",
     "output_type": "stream",
     "text": [
      "<class 'pandas.core.frame.DataFrame'>\n",
      "RangeIndex: 127037 entries, 0 to 127036\n",
      "Data columns (total 11 columns):\n",
      " #   Column                Non-Null Count   Dtype  \n",
      "---  ------                --------------   -----  \n",
      " 0   id                    127037 non-null  int64  \n",
      " 1   Gender                127037 non-null  object \n",
      " 2   Age                   127037 non-null  int64  \n",
      " 3   Driving_License       127037 non-null  int64  \n",
      " 4   Region_Code           127037 non-null  float64\n",
      " 5   Previously_Insured    127037 non-null  int64  \n",
      " 6   Vehicle_Age           127037 non-null  object \n",
      " 7   Vehicle_Damage        127037 non-null  object \n",
      " 8   Annual_Premium        127037 non-null  float64\n",
      " 9   Policy_Sales_Channel  127037 non-null  float64\n",
      " 10  Vintage               127037 non-null  int64  \n",
      "dtypes: float64(3), int64(5), object(3)\n",
      "memory usage: 10.7+ MB\n"
     ]
    }
   ],
   "source": [
    "test.info()"
   ]
  },
  {
   "cell_type": "code",
   "execution_count": 9,
   "metadata": {},
   "outputs": [
    {
     "data": {
      "text/html": [
       "<div>\n",
       "<style scoped>\n",
       "    .dataframe tbody tr th:only-of-type {\n",
       "        vertical-align: middle;\n",
       "    }\n",
       "\n",
       "    .dataframe tbody tr th {\n",
       "        vertical-align: top;\n",
       "    }\n",
       "\n",
       "    .dataframe thead th {\n",
       "        text-align: right;\n",
       "    }\n",
       "</style>\n",
       "<table border=\"1\" class=\"dataframe\">\n",
       "  <thead>\n",
       "    <tr style=\"text-align: right;\">\n",
       "      <th></th>\n",
       "      <th>id</th>\n",
       "      <th>Gender</th>\n",
       "      <th>Age</th>\n",
       "      <th>Driving_License</th>\n",
       "      <th>Region_Code</th>\n",
       "      <th>Previously_Insured</th>\n",
       "      <th>Vehicle_Age</th>\n",
       "      <th>Vehicle_Damage</th>\n",
       "      <th>Annual_Premium</th>\n",
       "      <th>Policy_Sales_Channel</th>\n",
       "      <th>Vintage</th>\n",
       "    </tr>\n",
       "  </thead>\n",
       "  <tbody>\n",
       "    <tr>\n",
       "      <th>count</th>\n",
       "      <td>127037.000000</td>\n",
       "      <td>127037</td>\n",
       "      <td>127037.000000</td>\n",
       "      <td>127037.000000</td>\n",
       "      <td>127037.000000</td>\n",
       "      <td>127037.000000</td>\n",
       "      <td>127037</td>\n",
       "      <td>127037</td>\n",
       "      <td>127037.000000</td>\n",
       "      <td>127037.000000</td>\n",
       "      <td>127037.000000</td>\n",
       "    </tr>\n",
       "    <tr>\n",
       "      <th>unique</th>\n",
       "      <td>NaN</td>\n",
       "      <td>2</td>\n",
       "      <td>NaN</td>\n",
       "      <td>NaN</td>\n",
       "      <td>NaN</td>\n",
       "      <td>NaN</td>\n",
       "      <td>3</td>\n",
       "      <td>2</td>\n",
       "      <td>NaN</td>\n",
       "      <td>NaN</td>\n",
       "      <td>NaN</td>\n",
       "    </tr>\n",
       "    <tr>\n",
       "      <th>top</th>\n",
       "      <td>NaN</td>\n",
       "      <td>Male</td>\n",
       "      <td>NaN</td>\n",
       "      <td>NaN</td>\n",
       "      <td>NaN</td>\n",
       "      <td>NaN</td>\n",
       "      <td>1-2 Year</td>\n",
       "      <td>Yes</td>\n",
       "      <td>NaN</td>\n",
       "      <td>NaN</td>\n",
       "      <td>NaN</td>\n",
       "    </tr>\n",
       "    <tr>\n",
       "      <th>freq</th>\n",
       "      <td>NaN</td>\n",
       "      <td>68236</td>\n",
       "      <td>NaN</td>\n",
       "      <td>NaN</td>\n",
       "      <td>NaN</td>\n",
       "      <td>NaN</td>\n",
       "      <td>66699</td>\n",
       "      <td>63835</td>\n",
       "      <td>NaN</td>\n",
       "      <td>NaN</td>\n",
       "      <td>NaN</td>\n",
       "    </tr>\n",
       "    <tr>\n",
       "      <th>mean</th>\n",
       "      <td>444628.000000</td>\n",
       "      <td>NaN</td>\n",
       "      <td>38.765903</td>\n",
       "      <td>0.998134</td>\n",
       "      <td>26.459866</td>\n",
       "      <td>0.460039</td>\n",
       "      <td>NaN</td>\n",
       "      <td>NaN</td>\n",
       "      <td>30524.643576</td>\n",
       "      <td>111.800468</td>\n",
       "      <td>154.318301</td>\n",
       "    </tr>\n",
       "    <tr>\n",
       "      <th>std</th>\n",
       "      <td>36672.567411</td>\n",
       "      <td>NaN</td>\n",
       "      <td>15.465814</td>\n",
       "      <td>0.043152</td>\n",
       "      <td>13.209916</td>\n",
       "      <td>0.498403</td>\n",
       "      <td>NaN</td>\n",
       "      <td>NaN</td>\n",
       "      <td>16945.297103</td>\n",
       "      <td>54.371765</td>\n",
       "      <td>83.661588</td>\n",
       "    </tr>\n",
       "    <tr>\n",
       "      <th>min</th>\n",
       "      <td>381110.000000</td>\n",
       "      <td>NaN</td>\n",
       "      <td>20.000000</td>\n",
       "      <td>0.000000</td>\n",
       "      <td>0.000000</td>\n",
       "      <td>0.000000</td>\n",
       "      <td>NaN</td>\n",
       "      <td>NaN</td>\n",
       "      <td>2630.000000</td>\n",
       "      <td>1.000000</td>\n",
       "      <td>10.000000</td>\n",
       "    </tr>\n",
       "    <tr>\n",
       "      <th>25%</th>\n",
       "      <td>412869.000000</td>\n",
       "      <td>NaN</td>\n",
       "      <td>25.000000</td>\n",
       "      <td>1.000000</td>\n",
       "      <td>15.000000</td>\n",
       "      <td>0.000000</td>\n",
       "      <td>NaN</td>\n",
       "      <td>NaN</td>\n",
       "      <td>24325.000000</td>\n",
       "      <td>26.000000</td>\n",
       "      <td>82.000000</td>\n",
       "    </tr>\n",
       "    <tr>\n",
       "      <th>50%</th>\n",
       "      <td>444628.000000</td>\n",
       "      <td>NaN</td>\n",
       "      <td>36.000000</td>\n",
       "      <td>1.000000</td>\n",
       "      <td>28.000000</td>\n",
       "      <td>0.000000</td>\n",
       "      <td>NaN</td>\n",
       "      <td>NaN</td>\n",
       "      <td>31642.000000</td>\n",
       "      <td>135.000000</td>\n",
       "      <td>154.000000</td>\n",
       "    </tr>\n",
       "    <tr>\n",
       "      <th>75%</th>\n",
       "      <td>476387.000000</td>\n",
       "      <td>NaN</td>\n",
       "      <td>49.000000</td>\n",
       "      <td>1.000000</td>\n",
       "      <td>35.000000</td>\n",
       "      <td>1.000000</td>\n",
       "      <td>NaN</td>\n",
       "      <td>NaN</td>\n",
       "      <td>39408.000000</td>\n",
       "      <td>152.000000</td>\n",
       "      <td>227.000000</td>\n",
       "    </tr>\n",
       "    <tr>\n",
       "      <th>max</th>\n",
       "      <td>508146.000000</td>\n",
       "      <td>NaN</td>\n",
       "      <td>85.000000</td>\n",
       "      <td>1.000000</td>\n",
       "      <td>52.000000</td>\n",
       "      <td>1.000000</td>\n",
       "      <td>NaN</td>\n",
       "      <td>NaN</td>\n",
       "      <td>472042.000000</td>\n",
       "      <td>163.000000</td>\n",
       "      <td>299.000000</td>\n",
       "    </tr>\n",
       "  </tbody>\n",
       "</table>\n",
       "</div>"
      ],
      "text/plain": [
       "                   id  Gender            Age  Driving_License    Region_Code  \\\n",
       "count   127037.000000  127037  127037.000000    127037.000000  127037.000000   \n",
       "unique            NaN       2            NaN              NaN            NaN   \n",
       "top               NaN    Male            NaN              NaN            NaN   \n",
       "freq              NaN   68236            NaN              NaN            NaN   \n",
       "mean    444628.000000     NaN      38.765903         0.998134      26.459866   \n",
       "std      36672.567411     NaN      15.465814         0.043152      13.209916   \n",
       "min     381110.000000     NaN      20.000000         0.000000       0.000000   \n",
       "25%     412869.000000     NaN      25.000000         1.000000      15.000000   \n",
       "50%     444628.000000     NaN      36.000000         1.000000      28.000000   \n",
       "75%     476387.000000     NaN      49.000000         1.000000      35.000000   \n",
       "max     508146.000000     NaN      85.000000         1.000000      52.000000   \n",
       "\n",
       "        Previously_Insured Vehicle_Age Vehicle_Damage  Annual_Premium  \\\n",
       "count        127037.000000      127037         127037   127037.000000   \n",
       "unique                 NaN           3              2             NaN   \n",
       "top                    NaN    1-2 Year            Yes             NaN   \n",
       "freq                   NaN       66699          63835             NaN   \n",
       "mean              0.460039         NaN            NaN    30524.643576   \n",
       "std               0.498403         NaN            NaN    16945.297103   \n",
       "min               0.000000         NaN            NaN     2630.000000   \n",
       "25%               0.000000         NaN            NaN    24325.000000   \n",
       "50%               0.000000         NaN            NaN    31642.000000   \n",
       "75%               1.000000         NaN            NaN    39408.000000   \n",
       "max               1.000000         NaN            NaN   472042.000000   \n",
       "\n",
       "        Policy_Sales_Channel        Vintage  \n",
       "count          127037.000000  127037.000000  \n",
       "unique                   NaN            NaN  \n",
       "top                      NaN            NaN  \n",
       "freq                     NaN            NaN  \n",
       "mean              111.800468     154.318301  \n",
       "std                54.371765      83.661588  \n",
       "min                 1.000000      10.000000  \n",
       "25%                26.000000      82.000000  \n",
       "50%               135.000000     154.000000  \n",
       "75%               152.000000     227.000000  \n",
       "max               163.000000     299.000000  "
      ]
     },
     "execution_count": 9,
     "metadata": {},
     "output_type": "execute_result"
    }
   ],
   "source": [
    "test.describe(include='all')"
   ]
  },
  {
   "cell_type": "code",
   "execution_count": 10,
   "metadata": {},
   "outputs": [
    {
     "data": {
      "text/html": [
       "<div>\n",
       "<style scoped>\n",
       "    .dataframe tbody tr th:only-of-type {\n",
       "        vertical-align: middle;\n",
       "    }\n",
       "\n",
       "    .dataframe tbody tr th {\n",
       "        vertical-align: top;\n",
       "    }\n",
       "\n",
       "    .dataframe thead th {\n",
       "        text-align: right;\n",
       "    }\n",
       "</style>\n",
       "<table border=\"1\" class=\"dataframe\">\n",
       "  <thead>\n",
       "    <tr style=\"text-align: right;\">\n",
       "      <th></th>\n",
       "      <th>id</th>\n",
       "      <th>Gender</th>\n",
       "      <th>Age</th>\n",
       "      <th>Driving_License</th>\n",
       "      <th>Region_Code</th>\n",
       "      <th>Previously_Insured</th>\n",
       "      <th>Vehicle_Age</th>\n",
       "      <th>Vehicle_Damage</th>\n",
       "      <th>Annual_Premium</th>\n",
       "      <th>Policy_Sales_Channel</th>\n",
       "      <th>Vintage</th>\n",
       "    </tr>\n",
       "  </thead>\n",
       "  <tbody>\n",
       "    <tr>\n",
       "      <th>0</th>\n",
       "      <td>381110</td>\n",
       "      <td>Male</td>\n",
       "      <td>25</td>\n",
       "      <td>1</td>\n",
       "      <td>11.0</td>\n",
       "      <td>1</td>\n",
       "      <td>&lt; 1 Year</td>\n",
       "      <td>No</td>\n",
       "      <td>35786.0</td>\n",
       "      <td>152.0</td>\n",
       "      <td>53</td>\n",
       "    </tr>\n",
       "    <tr>\n",
       "      <th>1</th>\n",
       "      <td>381111</td>\n",
       "      <td>Male</td>\n",
       "      <td>40</td>\n",
       "      <td>1</td>\n",
       "      <td>28.0</td>\n",
       "      <td>0</td>\n",
       "      <td>1-2 Year</td>\n",
       "      <td>Yes</td>\n",
       "      <td>33762.0</td>\n",
       "      <td>7.0</td>\n",
       "      <td>111</td>\n",
       "    </tr>\n",
       "    <tr>\n",
       "      <th>2</th>\n",
       "      <td>381112</td>\n",
       "      <td>Male</td>\n",
       "      <td>47</td>\n",
       "      <td>1</td>\n",
       "      <td>28.0</td>\n",
       "      <td>0</td>\n",
       "      <td>1-2 Year</td>\n",
       "      <td>Yes</td>\n",
       "      <td>40050.0</td>\n",
       "      <td>124.0</td>\n",
       "      <td>199</td>\n",
       "    </tr>\n",
       "    <tr>\n",
       "      <th>3</th>\n",
       "      <td>381113</td>\n",
       "      <td>Male</td>\n",
       "      <td>24</td>\n",
       "      <td>1</td>\n",
       "      <td>27.0</td>\n",
       "      <td>1</td>\n",
       "      <td>&lt; 1 Year</td>\n",
       "      <td>Yes</td>\n",
       "      <td>37356.0</td>\n",
       "      <td>152.0</td>\n",
       "      <td>187</td>\n",
       "    </tr>\n",
       "    <tr>\n",
       "      <th>4</th>\n",
       "      <td>381114</td>\n",
       "      <td>Male</td>\n",
       "      <td>27</td>\n",
       "      <td>1</td>\n",
       "      <td>28.0</td>\n",
       "      <td>1</td>\n",
       "      <td>&lt; 1 Year</td>\n",
       "      <td>No</td>\n",
       "      <td>59097.0</td>\n",
       "      <td>152.0</td>\n",
       "      <td>297</td>\n",
       "    </tr>\n",
       "  </tbody>\n",
       "</table>\n",
       "</div>"
      ],
      "text/plain": [
       "       id Gender  Age  Driving_License  Region_Code  Previously_Insured  \\\n",
       "0  381110   Male   25                1         11.0                   1   \n",
       "1  381111   Male   40                1         28.0                   0   \n",
       "2  381112   Male   47                1         28.0                   0   \n",
       "3  381113   Male   24                1         27.0                   1   \n",
       "4  381114   Male   27                1         28.0                   1   \n",
       "\n",
       "  Vehicle_Age Vehicle_Damage  Annual_Premium  Policy_Sales_Channel  Vintage  \n",
       "0    < 1 Year             No         35786.0                 152.0       53  \n",
       "1    1-2 Year            Yes         33762.0                   7.0      111  \n",
       "2    1-2 Year            Yes         40050.0                 124.0      199  \n",
       "3    < 1 Year            Yes         37356.0                 152.0      187  \n",
       "4    < 1 Year             No         59097.0                 152.0      297  "
      ]
     },
     "execution_count": 10,
     "metadata": {},
     "output_type": "execute_result"
    }
   ],
   "source": [
    "test.head()"
   ]
  },
  {
   "cell_type": "code",
   "execution_count": 11,
   "metadata": {},
   "outputs": [
    {
     "data": {
      "text/plain": [
       "id                      381109\n",
       "Gender                       2\n",
       "Age                         66\n",
       "Driving_License              2\n",
       "Region_Code                 53\n",
       "Previously_Insured           2\n",
       "Vehicle_Age                  3\n",
       "Vehicle_Damage               2\n",
       "Annual_Premium           48838\n",
       "Policy_Sales_Channel       155\n",
       "Vintage                    290\n",
       "Response                     2\n",
       "dtype: int64"
      ]
     },
     "execution_count": 11,
     "metadata": {},
     "output_type": "execute_result"
    }
   ],
   "source": [
    "train.nunique()"
   ]
  },
  {
   "cell_type": "code",
   "execution_count": 12,
   "metadata": {},
   "outputs": [
    {
     "data": {
      "text/plain": [
       "id                      127037\n",
       "Gender                       2\n",
       "Age                         66\n",
       "Driving_License              2\n",
       "Region_Code                 53\n",
       "Previously_Insured           2\n",
       "Vehicle_Age                  3\n",
       "Vehicle_Damage               2\n",
       "Annual_Premium           36327\n",
       "Policy_Sales_Channel       145\n",
       "Vintage                    290\n",
       "dtype: int64"
      ]
     },
     "execution_count": 12,
     "metadata": {},
     "output_type": "execute_result"
    }
   ],
   "source": [
    "test.nunique()"
   ]
  },
  {
   "cell_type": "code",
   "execution_count": 13,
   "metadata": {},
   "outputs": [],
   "source": [
    "Train = train.copy()\n",
    "Test = test.copy()"
   ]
  },
  {
   "cell_type": "code",
   "execution_count": 14,
   "metadata": {},
   "outputs": [],
   "source": [
    "## Removing the id column:\n",
    "Train.drop('id',axis =1, inplace = True)\n",
    "Test.drop('id',axis =1, inplace = True)"
   ]
  },
  {
   "cell_type": "code",
   "execution_count": 15,
   "metadata": {},
   "outputs": [
    {
     "data": {
      "text/plain": [
       "Index(['Gender', 'Age', 'Driving_License', 'Region_Code', 'Previously_Insured',\n",
       "       'Vehicle_Age', 'Vehicle_Damage', 'Annual_Premium',\n",
       "       'Policy_Sales_Channel', 'Vintage', 'Response'],\n",
       "      dtype='object')"
      ]
     },
     "execution_count": 15,
     "metadata": {},
     "output_type": "execute_result"
    }
   ],
   "source": [
    "Train.columns"
   ]
  },
  {
   "cell_type": "code",
   "execution_count": 16,
   "metadata": {},
   "outputs": [],
   "source": [
    "col_val = ['Gender', 'Driving_License', 'Previously_Insured',\n",
    "       'Vehicle_Age', 'Vehicle_Damage', 'Annual_Premium',\n",
    "       'Policy_Sales_Channel', 'Vintage', 'Response']"
   ]
  },
  {
   "cell_type": "code",
   "execution_count": 17,
   "metadata": {},
   "outputs": [
    {
     "name": "stdout",
     "output_type": "stream",
     "text": [
      "Male      206089\n",
      "Female    175020\n",
      "Name: Gender, dtype: int64 \n",
      "\n",
      "\n",
      "1    380297\n",
      "0       812\n",
      "Name: Driving_License, dtype: int64 \n",
      "\n",
      "\n",
      "0    206481\n",
      "1    174628\n",
      "Name: Previously_Insured, dtype: int64 \n",
      "\n",
      "\n",
      "1-2 Year     200316\n",
      "< 1 Year     164786\n",
      "> 2 Years     16007\n",
      "Name: Vehicle_Age, dtype: int64 \n",
      "\n",
      "\n",
      "Yes    192413\n",
      "No     188696\n",
      "Name: Vehicle_Damage, dtype: int64 \n",
      "\n",
      "\n",
      "2630.0     64877\n",
      "69856.0      140\n",
      "39008.0       41\n",
      "38287.0       38\n",
      "45179.0       38\n",
      "           ...  \n",
      "62326.0        1\n",
      "59733.0        1\n",
      "55934.0        1\n",
      "75387.0        1\n",
      "53346.0        1\n",
      "Name: Annual_Premium, Length: 48838, dtype: int64 \n",
      "\n",
      "\n",
      "152.0    134784\n",
      "26.0      79700\n",
      "124.0     73995\n",
      "160.0     21779\n",
      "156.0     10661\n",
      "          ...  \n",
      "144.0         1\n",
      "149.0         1\n",
      "84.0          1\n",
      "143.0         1\n",
      "43.0          1\n",
      "Name: Policy_Sales_Channel, Length: 155, dtype: int64 \n",
      "\n",
      "\n",
      "256    1418\n",
      "73     1410\n",
      "282    1397\n",
      "158    1394\n",
      "187    1392\n",
      "       ... \n",
      "205    1235\n",
      "89     1234\n",
      "32     1230\n",
      "224    1227\n",
      "277    1226\n",
      "Name: Vintage, Length: 290, dtype: int64 \n",
      "\n",
      "\n",
      "0    334399\n",
      "1     46710\n",
      "Name: Response, dtype: int64 \n",
      "\n",
      "\n"
     ]
    }
   ],
   "source": [
    "for i,col in enumerate(col_val):\n",
    "    print(Train[col].value_counts(),'\\n\\n')"
   ]
  },
  {
   "cell_type": "code",
   "execution_count": 18,
   "metadata": {},
   "outputs": [
    {
     "data": {
      "text/plain": [
       "<AxesSubplot:>"
      ]
     },
     "execution_count": 18,
     "metadata": {},
     "output_type": "execute_result"
    },
    {
     "data": {
      "image/png": "[encoded data removed]",
      "text/plain": [
       "<Figure size 432x288 with 1 Axes>"
      ]
     },
     "metadata": {
      "needs_background": "light"
     },
     "output_type": "display_data"
    }
   ],
   "source": [
    "## We see data is imbalanced \n",
    "Train['Response'].value_counts().plot.bar()"
   ]
  },
  {
   "cell_type": "code",
   "execution_count": 19,
   "metadata": {},
   "outputs": [
    {
     "data": {
      "text/html": [
       "<div>\n",
       "<style scoped>\n",
       "    .dataframe tbody tr th:only-of-type {\n",
       "        vertical-align: middle;\n",
       "    }\n",
       "\n",
       "    .dataframe tbody tr th {\n",
       "        vertical-align: top;\n",
       "    }\n",
       "\n",
       "    .dataframe thead th {\n",
       "        text-align: right;\n",
       "    }\n",
       "</style>\n",
       "<table border=\"1\" class=\"dataframe\">\n",
       "  <thead>\n",
       "    <tr style=\"text-align: right;\">\n",
       "      <th></th>\n",
       "      <th>id</th>\n",
       "      <th>Gender</th>\n",
       "      <th>Age</th>\n",
       "      <th>Driving_License</th>\n",
       "      <th>Region_Code</th>\n",
       "      <th>Previously_Insured</th>\n",
       "      <th>Vehicle_Age</th>\n",
       "      <th>Vehicle_Damage</th>\n",
       "      <th>Annual_Premium</th>\n",
       "      <th>Policy_Sales_Channel</th>\n",
       "      <th>Vintage</th>\n",
       "      <th>Response</th>\n",
       "    </tr>\n",
       "  </thead>\n",
       "  <tbody>\n",
       "    <tr>\n",
       "      <th>0</th>\n",
       "      <td>1</td>\n",
       "      <td>Male</td>\n",
       "      <td>44</td>\n",
       "      <td>1</td>\n",
       "      <td>28.0</td>\n",
       "      <td>0</td>\n",
       "      <td>&gt; 2 Years</td>\n",
       "      <td>Yes</td>\n",
       "      <td>40454.0</td>\n",
       "      <td>26.0</td>\n",
       "      <td>217</td>\n",
       "      <td>1</td>\n",
       "    </tr>\n",
       "    <tr>\n",
       "      <th>1</th>\n",
       "      <td>2</td>\n",
       "      <td>Male</td>\n",
       "      <td>76</td>\n",
       "      <td>1</td>\n",
       "      <td>3.0</td>\n",
       "      <td>0</td>\n",
       "      <td>1-2 Year</td>\n",
       "      <td>No</td>\n",
       "      <td>33536.0</td>\n",
       "      <td>26.0</td>\n",
       "      <td>183</td>\n",
       "      <td>0</td>\n",
       "    </tr>\n",
       "    <tr>\n",
       "      <th>2</th>\n",
       "      <td>3</td>\n",
       "      <td>Male</td>\n",
       "      <td>47</td>\n",
       "      <td>1</td>\n",
       "      <td>28.0</td>\n",
       "      <td>0</td>\n",
       "      <td>&gt; 2 Years</td>\n",
       "      <td>Yes</td>\n",
       "      <td>38294.0</td>\n",
       "      <td>26.0</td>\n",
       "      <td>27</td>\n",
       "      <td>1</td>\n",
       "    </tr>\n",
       "    <tr>\n",
       "      <th>3</th>\n",
       "      <td>4</td>\n",
       "      <td>Male</td>\n",
       "      <td>21</td>\n",
       "      <td>1</td>\n",
       "      <td>11.0</td>\n",
       "      <td>1</td>\n",
       "      <td>&lt; 1 Year</td>\n",
       "      <td>No</td>\n",
       "      <td>28619.0</td>\n",
       "      <td>152.0</td>\n",
       "      <td>203</td>\n",
       "      <td>0</td>\n",
       "    </tr>\n",
       "    <tr>\n",
       "      <th>4</th>\n",
       "      <td>5</td>\n",
       "      <td>Female</td>\n",
       "      <td>29</td>\n",
       "      <td>1</td>\n",
       "      <td>41.0</td>\n",
       "      <td>1</td>\n",
       "      <td>&lt; 1 Year</td>\n",
       "      <td>No</td>\n",
       "      <td>27496.0</td>\n",
       "      <td>152.0</td>\n",
       "      <td>39</td>\n",
       "      <td>0</td>\n",
       "    </tr>\n",
       "  </tbody>\n",
       "</table>\n",
       "</div>"
      ],
      "text/plain": [
       "   id  Gender  Age  Driving_License  Region_Code  Previously_Insured  \\\n",
       "0   1    Male   44                1         28.0                   0   \n",
       "1   2    Male   76                1          3.0                   0   \n",
       "2   3    Male   47                1         28.0                   0   \n",
       "3   4    Male   21                1         11.0                   1   \n",
       "4   5  Female   29                1         41.0                   1   \n",
       "\n",
       "  Vehicle_Age Vehicle_Damage  Annual_Premium  Policy_Sales_Channel  Vintage  \\\n",
       "0   > 2 Years            Yes         40454.0                  26.0      217   \n",
       "1    1-2 Year             No         33536.0                  26.0      183   \n",
       "2   > 2 Years            Yes         38294.0                  26.0       27   \n",
       "3    < 1 Year             No         28619.0                 152.0      203   \n",
       "4    < 1 Year             No         27496.0                 152.0       39   \n",
       "\n",
       "   Response  \n",
       "0         1  \n",
       "1         0  \n",
       "2         1  \n",
       "3         0  \n",
       "4         0  "
      ]
     },
     "execution_count": 19,
     "metadata": {},
     "output_type": "execute_result"
    }
   ],
   "source": [
    "train.head()"
   ]
  },
  {
   "cell_type": "code",
   "execution_count": 20,
   "metadata": {},
   "outputs": [],
   "source": [
    "Cat_feat = ['Gender', 'Age','Vehicle_Age', 'Vehicle_Damage']"
   ]
  },
  {
   "cell_type": "code",
   "execution_count": 21,
   "metadata": {},
   "outputs": [],
   "source": [
    "# Lets make Categories of different features one by one:\n",
    "Train = pd.get_dummies(Train,columns = ['Gender','Vehicle_Damage','Vehicle_Age'],drop_first = True)\n",
    "Test = pd.get_dummies(Test,columns = ['Gender','Vehicle_Damage','Vehicle_Age'],drop_first = True)"
   ]
  },
  {
   "cell_type": "code",
   "execution_count": 22,
   "metadata": {},
   "outputs": [
    {
     "data": {
      "text/html": [
       "<div>\n",
       "<style scoped>\n",
       "    .dataframe tbody tr th:only-of-type {\n",
       "        vertical-align: middle;\n",
       "    }\n",
       "\n",
       "    .dataframe tbody tr th {\n",
       "        vertical-align: top;\n",
       "    }\n",
       "\n",
       "    .dataframe thead th {\n",
       "        text-align: right;\n",
       "    }\n",
       "</style>\n",
       "<table border=\"1\" class=\"dataframe\">\n",
       "  <thead>\n",
       "    <tr style=\"text-align: right;\">\n",
       "      <th></th>\n",
       "      <th>Age</th>\n",
       "      <th>Driving_License</th>\n",
       "      <th>Region_Code</th>\n",
       "      <th>Previously_Insured</th>\n",
       "      <th>Annual_Premium</th>\n",
       "      <th>Policy_Sales_Channel</th>\n",
       "      <th>Vintage</th>\n",
       "      <th>Response</th>\n",
       "      <th>Gender_Male</th>\n",
       "      <th>Vehicle_Damage_Yes</th>\n",
       "      <th>Vehicle_Age_&lt; 1 Year</th>\n",
       "      <th>Vehicle_Age_&gt; 2 Years</th>\n",
       "    </tr>\n",
       "  </thead>\n",
       "  <tbody>\n",
       "    <tr>\n",
       "      <th>0</th>\n",
       "      <td>44</td>\n",
       "      <td>1</td>\n",
       "      <td>28.0</td>\n",
       "      <td>0</td>\n",
       "      <td>40454.0</td>\n",
       "      <td>26.0</td>\n",
       "      <td>217</td>\n",
       "      <td>1</td>\n",
       "      <td>1</td>\n",
       "      <td>1</td>\n",
       "      <td>0</td>\n",
       "      <td>1</td>\n",
       "    </tr>\n",
       "    <tr>\n",
       "      <th>1</th>\n",
       "      <td>76</td>\n",
       "      <td>1</td>\n",
       "      <td>3.0</td>\n",
       "      <td>0</td>\n",
       "      <td>33536.0</td>\n",
       "      <td>26.0</td>\n",
       "      <td>183</td>\n",
       "      <td>0</td>\n",
       "      <td>1</td>\n",
       "      <td>0</td>\n",
       "      <td>0</td>\n",
       "      <td>0</td>\n",
       "    </tr>\n",
       "    <tr>\n",
       "      <th>2</th>\n",
       "      <td>47</td>\n",
       "      <td>1</td>\n",
       "      <td>28.0</td>\n",
       "      <td>0</td>\n",
       "      <td>38294.0</td>\n",
       "      <td>26.0</td>\n",
       "      <td>27</td>\n",
       "      <td>1</td>\n",
       "      <td>1</td>\n",
       "      <td>1</td>\n",
       "      <td>0</td>\n",
       "      <td>1</td>\n",
       "    </tr>\n",
       "    <tr>\n",
       "      <th>3</th>\n",
       "      <td>21</td>\n",
       "      <td>1</td>\n",
       "      <td>11.0</td>\n",
       "      <td>1</td>\n",
       "      <td>28619.0</td>\n",
       "      <td>152.0</td>\n",
       "      <td>203</td>\n",
       "      <td>0</td>\n",
       "      <td>1</td>\n",
       "      <td>0</td>\n",
       "      <td>1</td>\n",
       "      <td>0</td>\n",
       "    </tr>\n",
       "    <tr>\n",
       "      <th>4</th>\n",
       "      <td>29</td>\n",
       "      <td>1</td>\n",
       "      <td>41.0</td>\n",
       "      <td>1</td>\n",
       "      <td>27496.0</td>\n",
       "      <td>152.0</td>\n",
       "      <td>39</td>\n",
       "      <td>0</td>\n",
       "      <td>0</td>\n",
       "      <td>0</td>\n",
       "      <td>1</td>\n",
       "      <td>0</td>\n",
       "    </tr>\n",
       "  </tbody>\n",
       "</table>\n",
       "</div>"
      ],
      "text/plain": [
       "   Age  Driving_License  Region_Code  Previously_Insured  Annual_Premium  \\\n",
       "0   44                1         28.0                   0         40454.0   \n",
       "1   76                1          3.0                   0         33536.0   \n",
       "2   47                1         28.0                   0         38294.0   \n",
       "3   21                1         11.0                   1         28619.0   \n",
       "4   29                1         41.0                   1         27496.0   \n",
       "\n",
       "   Policy_Sales_Channel  Vintage  Response  Gender_Male  Vehicle_Damage_Yes  \\\n",
       "0                  26.0      217         1            1                   1   \n",
       "1                  26.0      183         0            1                   0   \n",
       "2                  26.0       27         1            1                   1   \n",
       "3                 152.0      203         0            1                   0   \n",
       "4                 152.0       39         0            0                   0   \n",
       "\n",
       "   Vehicle_Age_< 1 Year  Vehicle_Age_> 2 Years  \n",
       "0                     0                      1  \n",
       "1                     0                      0  \n",
       "2                     0                      1  \n",
       "3                     1                      0  \n",
       "4                     1                      0  "
      ]
     },
     "execution_count": 22,
     "metadata": {},
     "output_type": "execute_result"
    }
   ],
   "source": [
    "Train.head()"
   ]
  },
  {
   "cell_type": "code",
   "execution_count": 23,
   "metadata": {},
   "outputs": [
    {
     "data": {
      "text/plain": [
       "24    25960\n",
       "23    24256\n",
       "22    20964\n",
       "25    20636\n",
       "21    16457\n",
       "26    13535\n",
       "27    10760\n",
       "28     8974\n",
       "43     8437\n",
       "44     8357\n",
       "45     8183\n",
       "42     8007\n",
       "46     7879\n",
       "41     7736\n",
       "29     7429\n",
       "47     7351\n",
       "40     7168\n",
       "48     7113\n",
       "49     6615\n",
       "39     6460\n",
       "50     6263\n",
       "30     6258\n",
       "20     6232\n",
       "51     5915\n",
       "38     5710\n",
       "52     5590\n",
       "31     5512\n",
       "37     5408\n",
       "53     5331\n",
       "36     5066\n",
       "33     5010\n",
       "32     4998\n",
       "54     4997\n",
       "35     4936\n",
       "34     4895\n",
       "55     4495\n",
       "56     4063\n",
       "57     3944\n",
       "58     3822\n",
       "59     3614\n",
       "60     3534\n",
       "61     3341\n",
       "62     3104\n",
       "63     3084\n",
       "64     2850\n",
       "65     2791\n",
       "66     2725\n",
       "67     2624\n",
       "69     2530\n",
       "68     2440\n",
       "70     2349\n",
       "71     2051\n",
       "72     2035\n",
       "73     1925\n",
       "74     1832\n",
       "75     1605\n",
       "76     1396\n",
       "77     1388\n",
       "78     1216\n",
       "79      915\n",
       "80      909\n",
       "81       56\n",
       "82       29\n",
       "83       22\n",
       "84       11\n",
       "85       11\n",
       "Name: Age, dtype: int64"
      ]
     },
     "execution_count": 23,
     "metadata": {},
     "output_type": "execute_result"
    }
   ],
   "source": [
    "Train['Age'].value_counts()\n",
    "# 20-30 is group 1\n",
    "# 31-40 is group 2\n",
    "# 41-50 is group 3\n",
    "# 51-60 is group 4\n",
    "# 61-70 is group 5\n",
    "# 71-80 is group 6"
   ]
  },
  {
   "cell_type": "code",
   "execution_count": 24,
   "metadata": {},
   "outputs": [
    {
     "data": {
      "text/plain": [
       "Age                      0\n",
       "Driving_License          0\n",
       "Region_Code              0\n",
       "Previously_Insured       0\n",
       "Annual_Premium           0\n",
       "Policy_Sales_Channel     0\n",
       "Vintage                  0\n",
       "Response                 0\n",
       "Gender_Male              0\n",
       "Vehicle_Damage_Yes       0\n",
       "Vehicle_Age_< 1 Year     0\n",
       "Vehicle_Age_> 2 Years    0\n",
       "dtype: int64"
      ]
     },
     "execution_count": 24,
     "metadata": {},
     "output_type": "execute_result"
    }
   ],
   "source": [
    "Train.isnull().sum()"
   ]
  },
  {
   "cell_type": "code",
   "execution_count": 25,
   "metadata": {},
   "outputs": [
    {
     "data": {
      "text/plain": [
       "Age                      0\n",
       "Driving_License          0\n",
       "Region_Code              0\n",
       "Previously_Insured       0\n",
       "Annual_Premium           0\n",
       "Policy_Sales_Channel     0\n",
       "Vintage                  0\n",
       "Gender_Male              0\n",
       "Vehicle_Damage_Yes       0\n",
       "Vehicle_Age_< 1 Year     0\n",
       "Vehicle_Age_> 2 Years    0\n",
       "dtype: int64"
      ]
     },
     "execution_count": 25,
     "metadata": {},
     "output_type": "execute_result"
    }
   ],
   "source": [
    "Test.isnull().sum()"
   ]
  },
  {
   "cell_type": "markdown",
   "metadata": {},
   "source": [
    "## Modeling Primary"
   ]
  },
  {
   "cell_type": "code",
   "execution_count": 26,
   "metadata": {},
   "outputs": [],
   "source": [
    "Y = Train['Response']\n",
    "X = Train.drop('Response',axis=1)\n",
    "\n",
    "x_train, x_test, y_train, y_test = train_test_split(X,Y,random_state = 101,stratify = Y)"
   ]
  },
  {
   "cell_type": "code",
   "execution_count": 27,
   "metadata": {},
   "outputs": [],
   "source": [
    "# lets check both with scaled data and non scaled data\n",
    "SC = StandardScaler()\n",
    "xl_train,xl_test = x_train.copy(),x_test.copy()\n",
    "xl_train = pd.DataFrame(SC.fit_transform(xl_train),columns =x_train.columns) \n",
    "xl_test = pd.DataFrame(SC.transform(xl_test),columns = x_test.columns)\n"
   ]
  },
  {
   "cell_type": "code",
   "execution_count": 28,
   "metadata": {},
   "outputs": [
    {
     "data": {
      "text/html": [
       "<div>\n",
       "<style scoped>\n",
       "    .dataframe tbody tr th:only-of-type {\n",
       "        vertical-align: middle;\n",
       "    }\n",
       "\n",
       "    .dataframe tbody tr th {\n",
       "        vertical-align: top;\n",
       "    }\n",
       "\n",
       "    .dataframe thead th {\n",
       "        text-align: right;\n",
       "    }\n",
       "</style>\n",
       "<table border=\"1\" class=\"dataframe\">\n",
       "  <thead>\n",
       "    <tr style=\"text-align: right;\">\n",
       "      <th></th>\n",
       "      <th>Age</th>\n",
       "      <th>Driving_License</th>\n",
       "      <th>Region_Code</th>\n",
       "      <th>Previously_Insured</th>\n",
       "      <th>Annual_Premium</th>\n",
       "      <th>Policy_Sales_Channel</th>\n",
       "      <th>Vintage</th>\n",
       "      <th>Gender_Male</th>\n",
       "      <th>Vehicle_Damage_Yes</th>\n",
       "      <th>Vehicle_Age_&lt; 1 Year</th>\n",
       "      <th>Vehicle_Age_&gt; 2 Years</th>\n",
       "    </tr>\n",
       "  </thead>\n",
       "  <tbody>\n",
       "    <tr>\n",
       "      <th>108133</th>\n",
       "      <td>23</td>\n",
       "      <td>1</td>\n",
       "      <td>8.0</td>\n",
       "      <td>1</td>\n",
       "      <td>27804.0</td>\n",
       "      <td>160.0</td>\n",
       "      <td>260</td>\n",
       "      <td>1</td>\n",
       "      <td>0</td>\n",
       "      <td>1</td>\n",
       "      <td>0</td>\n",
       "    </tr>\n",
       "    <tr>\n",
       "      <th>248143</th>\n",
       "      <td>50</td>\n",
       "      <td>1</td>\n",
       "      <td>8.0</td>\n",
       "      <td>1</td>\n",
       "      <td>39441.0</td>\n",
       "      <td>26.0</td>\n",
       "      <td>44</td>\n",
       "      <td>1</td>\n",
       "      <td>0</td>\n",
       "      <td>0</td>\n",
       "      <td>0</td>\n",
       "    </tr>\n",
       "    <tr>\n",
       "      <th>35625</th>\n",
       "      <td>34</td>\n",
       "      <td>1</td>\n",
       "      <td>47.0</td>\n",
       "      <td>1</td>\n",
       "      <td>28029.0</td>\n",
       "      <td>152.0</td>\n",
       "      <td>69</td>\n",
       "      <td>1</td>\n",
       "      <td>0</td>\n",
       "      <td>1</td>\n",
       "      <td>0</td>\n",
       "    </tr>\n",
       "    <tr>\n",
       "      <th>373423</th>\n",
       "      <td>23</td>\n",
       "      <td>1</td>\n",
       "      <td>41.0</td>\n",
       "      <td>0</td>\n",
       "      <td>43692.0</td>\n",
       "      <td>152.0</td>\n",
       "      <td>19</td>\n",
       "      <td>1</td>\n",
       "      <td>0</td>\n",
       "      <td>1</td>\n",
       "      <td>0</td>\n",
       "    </tr>\n",
       "    <tr>\n",
       "      <th>367375</th>\n",
       "      <td>23</td>\n",
       "      <td>1</td>\n",
       "      <td>27.0</td>\n",
       "      <td>0</td>\n",
       "      <td>2630.0</td>\n",
       "      <td>152.0</td>\n",
       "      <td>274</td>\n",
       "      <td>0</td>\n",
       "      <td>1</td>\n",
       "      <td>1</td>\n",
       "      <td>0</td>\n",
       "    </tr>\n",
       "  </tbody>\n",
       "</table>\n",
       "</div>"
      ],
      "text/plain": [
       "        Age  Driving_License  Region_Code  Previously_Insured  Annual_Premium  \\\n",
       "108133   23                1          8.0                   1         27804.0   \n",
       "248143   50                1          8.0                   1         39441.0   \n",
       "35625    34                1         47.0                   1         28029.0   \n",
       "373423   23                1         41.0                   0         43692.0   \n",
       "367375   23                1         27.0                   0          2630.0   \n",
       "\n",
       "        Policy_Sales_Channel  Vintage  Gender_Male  Vehicle_Damage_Yes  \\\n",
       "108133                 160.0      260            1                   0   \n",
       "248143                  26.0       44            1                   0   \n",
       "35625                  152.0       69            1                   0   \n",
       "373423                 152.0       19            1                   0   \n",
       "367375                 152.0      274            0                   1   \n",
       "\n",
       "        Vehicle_Age_< 1 Year  Vehicle_Age_> 2 Years  \n",
       "108133                     1                      0  \n",
       "248143                     0                      0  \n",
       "35625                      1                      0  \n",
       "373423                     1                      0  \n",
       "367375                     1                      0  "
      ]
     },
     "execution_count": 28,
     "metadata": {},
     "output_type": "execute_result"
    }
   ],
   "source": [
    "x_train.head()"
   ]
  },
  {
   "cell_type": "code",
   "execution_count": 29,
   "metadata": {},
   "outputs": [
    {
     "data": {
      "text/html": [
       "<div>\n",
       "<style scoped>\n",
       "    .dataframe tbody tr th:only-of-type {\n",
       "        vertical-align: middle;\n",
       "    }\n",
       "\n",
       "    .dataframe tbody tr th {\n",
       "        vertical-align: top;\n",
       "    }\n",
       "\n",
       "    .dataframe thead th {\n",
       "        text-align: right;\n",
       "    }\n",
       "</style>\n",
       "<table border=\"1\" class=\"dataframe\">\n",
       "  <thead>\n",
       "    <tr style=\"text-align: right;\">\n",
       "      <th></th>\n",
       "      <th>Age</th>\n",
       "      <th>Driving_License</th>\n",
       "      <th>Region_Code</th>\n",
       "      <th>Previously_Insured</th>\n",
       "      <th>Annual_Premium</th>\n",
       "      <th>Policy_Sales_Channel</th>\n",
       "      <th>Vintage</th>\n",
       "      <th>Gender_Male</th>\n",
       "      <th>Vehicle_Damage_Yes</th>\n",
       "      <th>Vehicle_Age_&lt; 1 Year</th>\n",
       "      <th>Vehicle_Age_&gt; 2 Years</th>\n",
       "    </tr>\n",
       "  </thead>\n",
       "  <tbody>\n",
       "    <tr>\n",
       "      <th>0</th>\n",
       "      <td>-1.019905</td>\n",
       "      <td>0.04636</td>\n",
       "      <td>-1.387587</td>\n",
       "      <td>1.088194</td>\n",
       "      <td>-0.161181</td>\n",
       "      <td>0.884383</td>\n",
       "      <td>1.262225</td>\n",
       "      <td>0.922456</td>\n",
       "      <td>-1.010145</td>\n",
       "      <td>1.146073</td>\n",
       "      <td>-0.210438</td>\n",
       "    </tr>\n",
       "    <tr>\n",
       "      <th>1</th>\n",
       "      <td>0.720576</td>\n",
       "      <td>0.04636</td>\n",
       "      <td>-1.387587</td>\n",
       "      <td>1.088194</td>\n",
       "      <td>0.510415</td>\n",
       "      <td>-1.589631</td>\n",
       "      <td>-1.318830</td>\n",
       "      <td>0.922456</td>\n",
       "      <td>-1.010145</td>\n",
       "      <td>-0.872544</td>\n",
       "      <td>-0.210438</td>\n",
       "    </tr>\n",
       "    <tr>\n",
       "      <th>2</th>\n",
       "      <td>-0.310820</td>\n",
       "      <td>0.04636</td>\n",
       "      <td>1.559287</td>\n",
       "      <td>1.088194</td>\n",
       "      <td>-0.148196</td>\n",
       "      <td>0.736681</td>\n",
       "      <td>-1.020097</td>\n",
       "      <td>0.922456</td>\n",
       "      <td>-1.010145</td>\n",
       "      <td>1.146073</td>\n",
       "      <td>-0.210438</td>\n",
       "    </tr>\n",
       "    <tr>\n",
       "      <th>3</th>\n",
       "      <td>-1.019905</td>\n",
       "      <td>0.04636</td>\n",
       "      <td>1.105922</td>\n",
       "      <td>-0.918954</td>\n",
       "      <td>0.755749</td>\n",
       "      <td>0.736681</td>\n",
       "      <td>-1.617564</td>\n",
       "      <td>0.922456</td>\n",
       "      <td>-1.010145</td>\n",
       "      <td>1.146073</td>\n",
       "      <td>-0.210438</td>\n",
       "    </tr>\n",
       "    <tr>\n",
       "      <th>4</th>\n",
       "      <td>-1.019905</td>\n",
       "      <td>0.04636</td>\n",
       "      <td>0.048070</td>\n",
       "      <td>-0.918954</td>\n",
       "      <td>-1.614025</td>\n",
       "      <td>0.736681</td>\n",
       "      <td>1.429516</td>\n",
       "      <td>-1.084062</td>\n",
       "      <td>0.989957</td>\n",
       "      <td>1.146073</td>\n",
       "      <td>-0.210438</td>\n",
       "    </tr>\n",
       "  </tbody>\n",
       "</table>\n",
       "</div>"
      ],
      "text/plain": [
       "        Age  Driving_License  Region_Code  Previously_Insured  Annual_Premium  \\\n",
       "0 -1.019905          0.04636    -1.387587            1.088194       -0.161181   \n",
       "1  0.720576          0.04636    -1.387587            1.088194        0.510415   \n",
       "2 -0.310820          0.04636     1.559287            1.088194       -0.148196   \n",
       "3 -1.019905          0.04636     1.105922           -0.918954        0.755749   \n",
       "4 -1.019905          0.04636     0.048070           -0.918954       -1.614025   \n",
       "\n",
       "   Policy_Sales_Channel   Vintage  Gender_Male  Vehicle_Damage_Yes  \\\n",
       "0              0.884383  1.262225     0.922456           -1.010145   \n",
       "1             -1.589631 -1.318830     0.922456           -1.010145   \n",
       "2              0.736681 -1.020097     0.922456           -1.010145   \n",
       "3              0.736681 -1.617564     0.922456           -1.010145   \n",
       "4              0.736681  1.429516    -1.084062            0.989957   \n",
       "\n",
       "   Vehicle_Age_< 1 Year  Vehicle_Age_> 2 Years  \n",
       "0              1.146073              -0.210438  \n",
       "1             -0.872544              -0.210438  \n",
       "2              1.146073              -0.210438  \n",
       "3              1.146073              -0.210438  \n",
       "4              1.146073              -0.210438  "
      ]
     },
     "execution_count": 29,
     "metadata": {},
     "output_type": "execute_result"
    }
   ],
   "source": [
    "xl_train.head()"
   ]
  },
  {
   "cell_type": "code",
   "execution_count": 30,
   "metadata": {},
   "outputs": [
    {
     "name": "stdout",
     "output_type": "stream",
     "text": [
      "[0.82014503 0.8201496  0.82190034 0.82190976 0.82300838]\n"
     ]
    }
   ],
   "source": [
    "## Logistic Regression without standard scaler:\n",
    "logm = LogisticRegression()\n",
    "print(cross_val_score(estimator = LogisticRegression(),X= x_train,y= y_train,scoring = 'f1_weighted',n_jobs =-1, cv =5))\n",
    "\n",
    "# [0.82014503 0.8201496  0.82190034 0.82190976 0.82300838]"
   ]
  },
  {
   "cell_type": "code",
   "execution_count": 31,
   "metadata": {},
   "outputs": [
    {
     "name": "stdout",
     "output_type": "stream",
     "text": [
      "[0.82017023 0.82013218 0.82024354 0.82016702 0.82010712]\n"
     ]
    }
   ],
   "source": [
    "## Logistic Regression without standard scaler:\n",
    "logm = LogisticRegression()\n",
    "print(cross_val_score(estimator = LogisticRegression(),X= xl_train,y= y_train,scoring = 'f1_weighted',n_jobs =-1, cv =5))\n",
    "\n",
    "# [0.82017023 0.82013218 0.82024354 0.82016702 0.82010712]"
   ]
  },
  {
   "cell_type": "code",
   "execution_count": 32,
   "metadata": {},
   "outputs": [
    {
     "name": "stdout",
     "output_type": "stream",
     "text": [
      "[0.82014503 0.82015831 0.82015831 0.82016702 0.82014196]\n"
     ]
    }
   ],
   "source": [
    "# Decsion_Tree\n",
    "print(cross_val_score(estimator = DecisionTreeClassifier(criterion='gini', max_depth=5, min_samples_split=5,\n",
    "                     random_state=101), X = x_train, y = y_train, scoring = 'f1_weighted',n_jobs = -1, cv =5))\n",
    "\n",
    "# [0.82014503 0.82015831 0.82015831 0.82016702 0.82014196]"
   ]
  },
  {
   "cell_type": "code",
   "execution_count": 33,
   "metadata": {},
   "outputs": [
    {
     "name": "stdout",
     "output_type": "stream",
     "text": [
      "[0.82014503 0.82016702 0.82016702 0.82016702 0.82014196]\n"
     ]
    }
   ],
   "source": [
    "# Random_Forest_Classifier\n",
    "rfc = RandomForestClassifier(n_estimators =20, max_depth = 5, min_samples_split = 4,\n",
    "                                                        random_state =101)\n",
    "print(cross_val_score(estimator = RandomForestClassifier(n_estimators =20, max_depth = 5, min_samples_split = 4,\n",
    "                                                        random_state =101),X =x_train, y = y_train, n_jobs =-1, cv= 5,\n",
    "                     scoring = 'f1_weighted'))\n",
    "\n",
    "# [0.82014503 0.82016702 0.82016702 0.82016702 0.82014196]"
   ]
  },
  {
   "cell_type": "code",
   "execution_count": 34,
   "metadata": {},
   "outputs": [],
   "source": [
    "# SVC \n",
    "#print(cross_val_score(estimator =SVC(),X =x_train, y= y_train, cv = 5, scoring = 'f1_weighted',n_jobs = -1))\n",
    "# [0.82014503 0.82016702 0.82016702 0.82016702 0.82014196]"
   ]
  },
  {
   "cell_type": "code",
   "execution_count": 35,
   "metadata": {},
   "outputs": [],
   "source": [
    "# SVC with standard scaler\n",
    "#print(cross_val_score(estimator =SVC(),X =xl_train, y= y_train, cv = 5, scoring = 'f1_weighted',n_jobs = -1))"
   ]
  },
  {
   "cell_type": "code",
   "execution_count": 36,
   "metadata": {},
   "outputs": [],
   "source": [
    "#SVC with imbalance check\n",
    "svc_est = SVC(kernel ='linear', class_weight ='balanced',probability = True, verbose =1, random_state =101)"
   ]
  },
  {
   "cell_type": "code",
   "execution_count": 37,
   "metadata": {},
   "outputs": [],
   "source": [
    "# svc_est.fit(x_train,y_train)\n",
    "# ysvc_pred = svc_est.predict(x_test)"
   ]
  },
  {
   "cell_type": "code",
   "execution_count": 38,
   "metadata": {},
   "outputs": [],
   "source": [
    "# print(confusion_matrix(y_test,ysvc_pred), classification_report(y_test,ysvc_pred))"
   ]
  },
  {
   "cell_type": "code",
   "execution_count": 39,
   "metadata": {},
   "outputs": [
    {
     "name": "stdout",
     "output_type": "stream",
     "text": [
      "[[83600     0]\n",
      " [11678     0]]               precision    recall  f1-score   support\n",
      "\n",
      "           0       0.88      1.00      0.93     83600\n",
      "           1       0.00      0.00      0.00     11678\n",
      "\n",
      "    accuracy                           0.88     95278\n",
      "   macro avg       0.44      0.50      0.47     95278\n",
      "weighted avg       0.77      0.88      0.82     95278\n",
      "\n"
     ]
    },
    {
     "name": "stderr",
     "output_type": "stream",
     "text": [
      "C:\\ProgramData\\Anaconda3\\lib\\site-packages\\sklearn\\metrics\\_classification.py:1221: UndefinedMetricWarning: Precision and F-score are ill-defined and being set to 0.0 in labels with no predicted samples. Use `zero_division` parameter to control this behavior.\n",
      "  _warn_prf(average, modifier, msg_start, len(result))\n"
     ]
    }
   ],
   "source": [
    "rfc.fit(x_train,y_train)\n",
    "rfc_pred = rfc.predict(x_test)\n",
    "print(confusion_matrix(y_test,rfc_pred), classification_report(y_test,rfc_pred))"
   ]
  },
  {
   "cell_type": "markdown",
   "metadata": {},
   "source": [
    "# Upscaling the data"
   ]
  },
  {
   "cell_type": "code",
   "execution_count": 57,
   "metadata": {},
   "outputs": [],
   "source": [
    "## As we clearly see there is bias ness in dataset and it does not classify the other calss at all\n",
    "# First we will use 70 % data to upscale and then we will split it in train and val\n",
    "N_train = Train.loc[0:260000,:]\n",
    "# Rest 30% will be not be having upscaled data and we will test on this\n",
    "N_Test = Train.loc[260001::,:] "
   ]
  },
  {
   "cell_type": "code",
   "execution_count": 58,
   "metadata": {},
   "outputs": [
    {
     "data": {
      "text/plain": [
       "0    228040\n",
       "1     31961\n",
       "Name: Response, dtype: int64"
      ]
     },
     "execution_count": 58,
     "metadata": {},
     "output_type": "execute_result"
    }
   ],
   "source": [
    "N_train.Response.value_counts()"
   ]
  },
  {
   "cell_type": "code",
   "execution_count": 88,
   "metadata": {},
   "outputs": [],
   "source": [
    "from sklearn.utils import resample\n",
    "# Lets upscale the data\n",
    "N_train_major = N_train[N_train.Response == 0]\n",
    "N_train_minor = N_train[N_train.Response == 1]\n",
    "\n",
    "Train_minor_upscale = resample(N_train_minor, replace = True, \n",
    "                               n_samples= 248040,random_state = 101)\n"
   ]
  },
  {
   "cell_type": "code",
   "execution_count": 89,
   "metadata": {},
   "outputs": [
    {
     "data": {
      "text/plain": [
       "1    248040\n",
       "0    228040\n",
       "Name: Response, dtype: int64"
      ]
     },
     "execution_count": 89,
     "metadata": {},
     "output_type": "execute_result"
    }
   ],
   "source": [
    "# concant the upscaled data and create train test split: Upscalsed Train data\n",
    "US_Train = pd.concat([N_train_major,Train_minor_upscale])\n",
    "US_Train.Response.value_counts()"
   ]
  },
  {
   "cell_type": "code",
   "execution_count": 90,
   "metadata": {},
   "outputs": [],
   "source": [
    "NY = US_Train['Response']\n",
    "NX = US_Train.drop('Response',axis=1)\n",
    "\n",
    "ux_train, ux_test, uy_train, uy_test = train_test_split(NX,NY,random_state = 101,stratify = NY)\n"
   ]
  },
  {
   "cell_type": "code",
   "execution_count": 91,
   "metadata": {},
   "outputs": [],
   "source": [
    "# lets check both with scaled data and non scaled data\n",
    "SC = StandardScaler()\n",
    "uxl_train,uxl_test = ux_train.copy(),ux_test.copy()\n",
    "uxl_train = pd.DataFrame(SC.fit_transform(uxl_train),columns =ux_train.columns) \n",
    "uxl_test = pd.DataFrame(SC.transform(uxl_test),columns = ux_test.columns)\n"
   ]
  },
  {
   "cell_type": "code",
   "execution_count": 92,
   "metadata": {},
   "outputs": [
    {
     "name": "stdout",
     "output_type": "stream",
     "text": [
      "[0.77846146 0.78200089 0.78108277 0.78164346 0.78050402]\n"
     ]
    }
   ],
   "source": [
    "## Logistic Regression without standard scaler:\n",
    "logm = LogisticRegression()\n",
    "print(cross_val_score(estimator = LogisticRegression(),X= uxl_train,y= uy_train,scoring = 'f1_weighted',n_jobs =-1, cv =5))\n"
   ]
  },
  {
   "cell_type": "code",
   "execution_count": 93,
   "metadata": {},
   "outputs": [
    {
     "name": "stdout",
     "output_type": "stream",
     "text": [
      "[[56678   332]\n",
      " [61991    19]]               precision    recall  f1-score   support\n",
      "\n",
      "           0       0.48      0.99      0.65     57010\n",
      "           1       0.05      0.00      0.00     62010\n",
      "\n",
      "    accuracy                           0.48    119020\n",
      "   macro avg       0.27      0.50      0.32    119020\n",
      "weighted avg       0.26      0.48      0.31    119020\n",
      "\n"
     ]
    }
   ],
   "source": [
    "logm.fit(uxl_train,uy_train)\n",
    "log_pred = rfc.predict(uxl_test)\n",
    "print(confusion_matrix(uy_test,log_pred), classification_report(uy_test,log_pred))"
   ]
  },
  {
   "cell_type": "code",
   "execution_count": null,
   "metadata": {},
   "outputs": [],
   "source": []
  },
  {
   "cell_type": "code",
   "execution_count": 105,
   "metadata": {},
   "outputs": [
    {
     "name": "stdout",
     "output_type": "stream",
     "text": [
      "[[37187 19823]\n",
      " [ 3000 59010]]               precision    recall  f1-score   support\n",
      "\n",
      "           0       0.93      0.65      0.77     57010\n",
      "           1       0.75      0.95      0.84     62010\n",
      "\n",
      "    accuracy                           0.81    119020\n",
      "   macro avg       0.84      0.80      0.80    119020\n",
      "weighted avg       0.83      0.81      0.80    119020\n",
      "\n"
     ]
    }
   ],
   "source": [
    "## Just Wow we see a good accuracy here:\n",
    "rfc = RandomForestClassifier(n_estimators =300, max_depth = 8, min_samples_split = 20,\n",
    "                                                        random_state =101)\n",
    "rfc.fit(ux_train,uy_train)\n",
    "rfc_pred = rfc.predict(ux_test)\n",
    "print(confusion_matrix(uy_test,rfc_pred), classification_report(uy_test,rfc_pred))"
   ]
  },
  {
   "cell_type": "code",
   "execution_count": 95,
   "metadata": {},
   "outputs": [
    {
     "data": {
      "text/plain": [
       "0    106359\n",
       "1     14749\n",
       "Name: Response, dtype: int64"
      ]
     },
     "execution_count": 95,
     "metadata": {},
     "output_type": "execute_result"
    }
   ],
   "source": [
    "## Lets test it on the test data which doesn't have any upscaled data\n",
    "N_Test.Response.value_counts()"
   ]
  },
  {
   "cell_type": "code",
   "execution_count": 106,
   "metadata": {},
   "outputs": [
    {
     "name": "stdout",
     "output_type": "stream",
     "text": [
      "[[68734 37625]\n",
      " [  791 13958]]               precision    recall  f1-score   support\n",
      "\n",
      "           0       0.99      0.65      0.78    106359\n",
      "           1       0.27      0.95      0.42     14749\n",
      "\n",
      "    accuracy                           0.68    121108\n",
      "   macro avg       0.63      0.80      0.60    121108\n",
      "weighted avg       0.90      0.68      0.74    121108\n",
      "\n"
     ]
    }
   ],
   "source": [
    "NY_Test = N_Test['Response']\n",
    "NX_Test = N_Test.drop('Response',axis = 1)\n",
    "ntrfc_pred = rfc.predict(NX_Test)\n",
    "print(confusion_matrix(NY_Test,ntrfc_pred), classification_report(NY_Test,ntrfc_pred))"
   ]
  },
  {
   "cell_type": "code",
   "execution_count": 97,
   "metadata": {},
   "outputs": [
    {
     "name": "stdout",
     "output_type": "stream",
     "text": [
      "<class 'pandas.core.frame.DataFrame'>\n",
      "RangeIndex: 127037 entries, 0 to 127036\n",
      "Data columns (total 11 columns):\n",
      " #   Column                 Non-Null Count   Dtype  \n",
      "---  ------                 --------------   -----  \n",
      " 0   Age                    127037 non-null  int64  \n",
      " 1   Driving_License        127037 non-null  int64  \n",
      " 2   Region_Code            127037 non-null  float64\n",
      " 3   Previously_Insured     127037 non-null  int64  \n",
      " 4   Annual_Premium         127037 non-null  float64\n",
      " 5   Policy_Sales_Channel   127037 non-null  float64\n",
      " 6   Vintage                127037 non-null  int64  \n",
      " 7   Gender_Male            127037 non-null  uint8  \n",
      " 8   Vehicle_Damage_Yes     127037 non-null  uint8  \n",
      " 9   Vehicle_Age_< 1 Year   127037 non-null  uint8  \n",
      " 10  Vehicle_Age_> 2 Years  127037 non-null  uint8  \n",
      "dtypes: float64(3), int64(4), uint8(4)\n",
      "memory usage: 7.3 MB\n"
     ]
    }
   ],
   "source": [
    "Test.info()"
   ]
  },
  {
   "cell_type": "code",
   "execution_count": 107,
   "metadata": {},
   "outputs": [],
   "source": [
    "# Final Pred\n",
    "final_pred = rfc.predict(Test)"
   ]
  },
  {
   "cell_type": "code",
   "execution_count": 108,
   "metadata": {},
   "outputs": [
    {
     "data": {
      "text/html": [
       "<div>\n",
       "<style scoped>\n",
       "    .dataframe tbody tr th:only-of-type {\n",
       "        vertical-align: middle;\n",
       "    }\n",
       "\n",
       "    .dataframe tbody tr th {\n",
       "        vertical-align: top;\n",
       "    }\n",
       "\n",
       "    .dataframe thead th {\n",
       "        text-align: right;\n",
       "    }\n",
       "</style>\n",
       "<table border=\"1\" class=\"dataframe\">\n",
       "  <thead>\n",
       "    <tr style=\"text-align: right;\">\n",
       "      <th></th>\n",
       "      <th>id</th>\n",
       "      <th>Response</th>\n",
       "    </tr>\n",
       "  </thead>\n",
       "  <tbody>\n",
       "    <tr>\n",
       "      <th>0</th>\n",
       "      <td>381110</td>\n",
       "      <td>0</td>\n",
       "    </tr>\n",
       "    <tr>\n",
       "      <th>1</th>\n",
       "      <td>381111</td>\n",
       "      <td>1</td>\n",
       "    </tr>\n",
       "    <tr>\n",
       "      <th>2</th>\n",
       "      <td>381112</td>\n",
       "      <td>1</td>\n",
       "    </tr>\n",
       "    <tr>\n",
       "      <th>3</th>\n",
       "      <td>381113</td>\n",
       "      <td>0</td>\n",
       "    </tr>\n",
       "    <tr>\n",
       "      <th>4</th>\n",
       "      <td>381114</td>\n",
       "      <td>0</td>\n",
       "    </tr>\n",
       "  </tbody>\n",
       "</table>\n",
       "</div>"
      ],
      "text/plain": [
       "       id  Response\n",
       "0  381110         0\n",
       "1  381111         1\n",
       "2  381112         1\n",
       "3  381113         0\n",
       "4  381114         0"
      ]
     },
     "execution_count": 108,
     "metadata": {},
     "output_type": "execute_result"
    }
   ],
   "source": [
    "sub.head()"
   ]
  },
  {
   "cell_type": "code",
   "execution_count": 109,
   "metadata": {},
   "outputs": [
    {
     "data": {
      "text/html": [
       "<div>\n",
       "<style scoped>\n",
       "    .dataframe tbody tr th:only-of-type {\n",
       "        vertical-align: middle;\n",
       "    }\n",
       "\n",
       "    .dataframe tbody tr th {\n",
       "        vertical-align: top;\n",
       "    }\n",
       "\n",
       "    .dataframe thead th {\n",
       "        text-align: right;\n",
       "    }\n",
       "</style>\n",
       "<table border=\"1\" class=\"dataframe\">\n",
       "  <thead>\n",
       "    <tr style=\"text-align: right;\">\n",
       "      <th></th>\n",
       "      <th>id</th>\n",
       "      <th>Response</th>\n",
       "    </tr>\n",
       "  </thead>\n",
       "  <tbody>\n",
       "    <tr>\n",
       "      <th>0</th>\n",
       "      <td>381110</td>\n",
       "      <td>0</td>\n",
       "    </tr>\n",
       "    <tr>\n",
       "      <th>1</th>\n",
       "      <td>381111</td>\n",
       "      <td>1</td>\n",
       "    </tr>\n",
       "    <tr>\n",
       "      <th>2</th>\n",
       "      <td>381112</td>\n",
       "      <td>1</td>\n",
       "    </tr>\n",
       "    <tr>\n",
       "      <th>3</th>\n",
       "      <td>381113</td>\n",
       "      <td>0</td>\n",
       "    </tr>\n",
       "    <tr>\n",
       "      <th>4</th>\n",
       "      <td>381114</td>\n",
       "      <td>0</td>\n",
       "    </tr>\n",
       "  </tbody>\n",
       "</table>\n",
       "</div>"
      ],
      "text/plain": [
       "       id  Response\n",
       "0  381110         0\n",
       "1  381111         1\n",
       "2  381112         1\n",
       "3  381113         0\n",
       "4  381114         0"
      ]
     },
     "execution_count": 109,
     "metadata": {},
     "output_type": "execute_result"
    }
   ],
   "source": [
    "sub['Response'] = final_pred\n",
    "sub.head()"
   ]
  },
  {
   "cell_type": "code",
   "execution_count": 110,
   "metadata": {},
   "outputs": [],
   "source": [
    "sub.to_csv(\"submission_rfc_upscale.csv\", index=False)\n"
   ]
  },
  {
   "cell_type": "code",
   "execution_count": 102,
   "metadata": {},
   "outputs": [
    {
     "data": {
      "text/plain": [
       "0    334399\n",
       "1     46710\n",
       "Name: Response, dtype: int64"
      ]
     },
     "execution_count": 102,
     "metadata": {},
     "output_type": "execute_result"
    }
   ],
   "source": [
    "Train.Response.value_counts()"
   ]
  },
  {
   "cell_type": "code",
   "execution_count": 104,
   "metadata": {},
   "outputs": [
    {
     "data": {
      "text/plain": [
       "1    339999\n",
       "0    334399\n",
       "Name: Response, dtype: int64"
      ]
     },
     "execution_count": 104,
     "metadata": {},
     "output_type": "execute_result"
    }
   ],
   "source": [
    "## Lets try on full Dataset:\n",
    "NF_Train = Train.copy()\n",
    "# Lets upscale the data\n",
    "NF_Train_major = NF_Train[NF_Train.Response == 0]\n",
    "NF_Train_minor = NF_Train[NF_Train.Response == 1]\n",
    "\n",
    "NF_Train_minor_upscale = resample(NF_Train_minor, replace = True, \n",
    "                               n_samples= 339999,random_state = 101)\n",
    "# concant the upscaled data and create train test split: Upscalsed Train data\n",
    "Full_Train = pd.concat([NF_Train_major,NF_Train_minor_upscale])\n",
    "Full_Train.Response.value_counts()"
   ]
  },
  {
   "cell_type": "code",
   "execution_count": 111,
   "metadata": {},
   "outputs": [],
   "source": [
    "FF_Y = Full_Train['Response']\n",
    "FF_X = Full_Train.drop('Response',axis=1)\n",
    "\n",
    "fx_train, fx_test, fy_train, fy_test = train_test_split(FF_X,FF_Y,random_state = 101,stratify = FF_Y)\n"
   ]
  },
  {
   "cell_type": "code",
   "execution_count": 112,
   "metadata": {},
   "outputs": [
    {
     "name": "stdout",
     "output_type": "stream",
     "text": [
      "[[54161 29439]\n",
      " [ 4194 80806]]               precision    recall  f1-score   support\n",
      "\n",
      "           0       0.93      0.65      0.76     83600\n",
      "           1       0.73      0.95      0.83     85000\n",
      "\n",
      "    accuracy                           0.80    168600\n",
      "   macro avg       0.83      0.80      0.80    168600\n",
      "weighted avg       0.83      0.80      0.80    168600\n",
      "\n"
     ]
    }
   ],
   "source": [
    "## Just Wow we see a good accuracy here:\n",
    "Frfc = RandomForestClassifier(n_estimators =300, max_depth = 8, min_samples_split = 20,\n",
    "                                                        random_state =101)\n",
    "Frfc.fit(fx_train,fy_train)\n",
    "Frfc_pred = rfc.predict(fx_test)\n",
    "print(confusion_matrix(fy_test,Frfc_pred), classification_report(fy_test,Frfc_pred))"
   ]
  },
  {
   "cell_type": "code",
   "execution_count": 113,
   "metadata": {},
   "outputs": [
    {
     "data": {
      "text/html": [
       "<div>\n",
       "<style scoped>\n",
       "    .dataframe tbody tr th:only-of-type {\n",
       "        vertical-align: middle;\n",
       "    }\n",
       "\n",
       "    .dataframe tbody tr th {\n",
       "        vertical-align: top;\n",
       "    }\n",
       "\n",
       "    .dataframe thead th {\n",
       "        text-align: right;\n",
       "    }\n",
       "</style>\n",
       "<table border=\"1\" class=\"dataframe\">\n",
       "  <thead>\n",
       "    <tr style=\"text-align: right;\">\n",
       "      <th></th>\n",
       "      <th>id</th>\n",
       "      <th>Response</th>\n",
       "    </tr>\n",
       "  </thead>\n",
       "  <tbody>\n",
       "    <tr>\n",
       "      <th>0</th>\n",
       "      <td>381110</td>\n",
       "      <td>0</td>\n",
       "    </tr>\n",
       "    <tr>\n",
       "      <th>1</th>\n",
       "      <td>381111</td>\n",
       "      <td>1</td>\n",
       "    </tr>\n",
       "    <tr>\n",
       "      <th>2</th>\n",
       "      <td>381112</td>\n",
       "      <td>1</td>\n",
       "    </tr>\n",
       "    <tr>\n",
       "      <th>3</th>\n",
       "      <td>381113</td>\n",
       "      <td>0</td>\n",
       "    </tr>\n",
       "    <tr>\n",
       "      <th>4</th>\n",
       "      <td>381114</td>\n",
       "      <td>0</td>\n",
       "    </tr>\n",
       "  </tbody>\n",
       "</table>\n",
       "</div>"
      ],
      "text/plain": [
       "       id  Response\n",
       "0  381110         0\n",
       "1  381111         1\n",
       "2  381112         1\n",
       "3  381113         0\n",
       "4  381114         0"
      ]
     },
     "execution_count": 113,
     "metadata": {},
     "output_type": "execute_result"
    }
   ],
   "source": [
    "# Final Pred\n",
    "final_pred = Frfc.predict(Test)\n",
    "sub['Response'] = final_pred\n",
    "sub.head()"
   ]
  },
  {
   "cell_type": "code",
   "execution_count": 114,
   "metadata": {},
   "outputs": [],
   "source": [
    "sub.to_csv(\"submission_Full_rfc_upscale.csv\", index=False)\n"
   ]
  },
  {
   "cell_type": "code",
   "execution_count": 115,
   "metadata": {},
   "outputs": [],
   "source": [
    "## Lets use GB Classifiers:\n",
    "## LGB Classifier:\n"
   ]
  },
  {
   "cell_type": "code",
   "execution_count": 116,
   "metadata": {},
   "outputs": [],
   "source": [
    "dxl_train = lgb.Dataset(fx_train,label = fy_train)\n",
    "\n",
    "params = {'learning_rate': 0.1, 'objective': 'binary', 'n_estimator': 30, 'max_depth': 6, 'boosting_type': 'gbdt',\n",
    "         'n_jobs':-1, 'random_state': 101}"
   ]
  },
  {
   "cell_type": "code",
   "execution_count": 129,
   "metadata": {},
   "outputs": [
    {
     "name": "stdout",
     "output_type": "stream",
     "text": [
      "[LightGBM] [Warning] Unknown parameter: n_estimator\n",
      "[LightGBM] [Warning] Accuracy may be bad since you didn't set num_leaves and 2^max_depth > num_leaves\n",
      "[LightGBM] [Warning] Unknown parameter: n_estimator\n",
      "[LightGBM] [Warning] Accuracy may be bad since you didn't set num_leaves and 2^max_depth > num_leaves\n",
      "[LightGBM] [Warning] Unknown parameter: n_estimator\n",
      "[LightGBM] [Warning] Accuracy may be bad since you didn't set num_leaves and 2^max_depth > num_leaves\n",
      "[LightGBM] [Info] Number of positive: 254999, number of negative: 250799\n",
      "[LightGBM] [Warning] Auto-choosing row-wise multi-threading, the overhead of testing was 0.028023 seconds.\n",
      "You can set `force_row_wise=true` to remove the overhead.\n",
      "And if memory is not enough, you can set `force_col_wise=true`.\n",
      "[LightGBM] [Info] Total Bins 760\n",
      "[LightGBM] [Info] Number of data points in the train set: 505798, number of used features: 11\n",
      "[LightGBM] [Info] [binary:BoostFromScore]: pavg=0.504152 -> initscore=0.016608\n",
      "[LightGBM] [Info] Start training from score 0.016608\n"
     ]
    },
    {
     "data": {
      "text/plain": [
       "array([0.27824181, 0.76775386, 0.67306929, ..., 0.75039706, 0.79063703,\n",
       "       0.49458701])"
      ]
     },
     "execution_count": 129,
     "metadata": {},
     "output_type": "execute_result"
    }
   ],
   "source": [
    "lgbm = lgb.train(params, dxl_train, num_boost_round = 40)\n",
    "Y_lgb_pred = lgbm.predict(fx_test)\n",
    "\n",
    "Y_lgb_pred"
   ]
  },
  {
   "cell_type": "code",
   "execution_count": 130,
   "metadata": {},
   "outputs": [
    {
     "data": {
      "text/plain": [
       "array([0., 1., 1., ..., 1., 1., 1.])"
      ]
     },
     "execution_count": 130,
     "metadata": {},
     "output_type": "execute_result"
    }
   ],
   "source": [
    "for i in range(len(fx_test)):\n",
    "    if Y_lgb_pred[i] >0.35:\n",
    "        Y_lgb_pred[i]=1.0\n",
    "    else:\n",
    "        Y_lgb_pred[i] =0.0\n",
    "Y_lgb_pred"
   ]
  },
  {
   "cell_type": "code",
   "execution_count": 131,
   "metadata": {},
   "outputs": [
    {
     "name": "stdout",
     "output_type": "stream",
     "text": [
      "[[50768 32832]\n",
      " [ 1908 83092]]               precision    recall  f1-score   support\n",
      "\n",
      "           0       0.96      0.61      0.75     83600\n",
      "           1       0.72      0.98      0.83     85000\n",
      "\n",
      "    accuracy                           0.79    168600\n",
      "   macro avg       0.84      0.79      0.79    168600\n",
      "weighted avg       0.84      0.79      0.79    168600\n",
      "\n"
     ]
    }
   ],
   "source": [
    "Y_lgb_pred = pd.DataFrame(Y_lgb_pred, columns=['Response'])\n",
    "print(confusion_matrix(fy_test,Y_lgb_pred), classification_report(fy_test,Y_lgb_pred))"
   ]
  },
  {
   "cell_type": "code",
   "execution_count": 137,
   "metadata": {},
   "outputs": [
    {
     "data": {
      "text/plain": [
       "array([0.01123854, 0.76088011, 0.75748567, ..., 0.01123854, 0.01088976,\n",
       "       0.01497409])"
      ]
     },
     "execution_count": 137,
     "metadata": {},
     "output_type": "execute_result"
    }
   ],
   "source": [
    "# Final Pred\n",
    "FY_lgb_pred = lgbm.predict(Test)\n",
    "FY_lgb_pred"
   ]
  },
  {
   "cell_type": "code",
   "execution_count": 138,
   "metadata": {},
   "outputs": [
    {
     "data": {
      "text/plain": [
       "array([0., 1., 1., ..., 0., 0., 0.])"
      ]
     },
     "execution_count": 138,
     "metadata": {},
     "output_type": "execute_result"
    }
   ],
   "source": [
    "for i in range(len(Test)):\n",
    "    if FY_lgb_pred[i] >0.5:\n",
    "        FY_lgb_pred[i]=1.0\n",
    "    else:\n",
    "        FY_lgb_pred[i] =0.0\n",
    "FY_lgb_pred"
   ]
  },
  {
   "cell_type": "code",
   "execution_count": 139,
   "metadata": {},
   "outputs": [],
   "source": [
    "sub['Response'] = FY_lgb_pred\n",
    "sub.head()\n",
    "sub.to_csv(\"submission_Full_lgb_upscale.csv\", index=False)\n"
   ]
  },
  {
   "cell_type": "code",
   "execution_count": null,
   "metadata": {},
   "outputs": [],
   "source": []
  }
 ],
 "metadata": {
  "kernelspec": {
   "display_name": "Python 3",
   "language": "python",
   "name": "python3"
  },
  "language_info": {
   "codemirror_mode": {
    "name": "ipython",
    "version": 3
   },
   "file_extension": ".py",
   "mimetype": "text/x-python",
   "name": "python",
   "nbconvert_exporter": "python",
   "pygments_lexer": "ipython3",
   "version": "3.7.6"
  }
 },
 "nbformat": 4,
 "nbformat_minor": 4
}
